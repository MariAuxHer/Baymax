{
 "cells": [
  {
   "cell_type": "markdown",
   "metadata": {
    "id": "ItXfxkxvosLH"
   },
   "source": [
    "# Basic text classification: Medical Taxonomy"
   ]
  },
  {
   "cell_type": "code",
   "execution_count": 2,
   "metadata": {
    "id": "8RZOuS9LWQvv",
    "tags": []
   },
   "outputs": [],
   "source": [
    "import matplotlib.pyplot as plt\n",
    "import os\n",
    "import re\n",
    "import shutil\n",
    "import string\n",
    "import tensorflow as tf\n",
    "\n",
    "from tensorflow.keras import layers\n",
    "from tensorflow.keras import losses\n"
   ]
  },
  {
   "cell_type": "code",
   "execution_count": 3,
   "metadata": {
    "id": "6-tTFS04dChr",
    "tags": []
   },
   "outputs": [
    {
     "name": "stdout",
     "output_type": "stream",
     "text": [
      "2.9.0\n"
     ]
    }
   ],
   "source": [
    "print(tf.__version__)"
   ]
  },
  {
   "cell_type": "code",
   "execution_count": 51,
   "metadata": {
    "id": "k7ZYnuajVlFN",
    "tags": []
   },
   "outputs": [],
   "source": [
    "dataset_dir = os.path.join('C:/Users/jhuff19/Desktop/Baymax/classification/classification_data')"
   ]
  },
  {
   "cell_type": "code",
   "execution_count": 52,
   "metadata": {
    "id": "355CfOvsV1pl",
    "tags": []
   },
   "outputs": [
    {
     "data": {
      "text/plain": [
       "['.ipynb_checkpoints',\n",
       " 'response_test_dermatology.txt',\n",
       " 'response_test_family_medicine.txt',\n",
       " 'response_test_optometry.txt',\n",
       " 'response_train_dermatology.txt',\n",
       " 'response_train_family_medicine.txt',\n",
       " 'response_train_optometry.txt',\n",
       " 'test',\n",
       " 'train']"
      ]
     },
     "execution_count": 52,
     "metadata": {},
     "output_type": "execute_result"
    }
   ],
   "source": [
    "os.listdir(dataset_dir)"
   ]
  },
  {
   "cell_type": "code",
   "execution_count": 53,
   "metadata": {
    "id": "7ASND15oXpF1",
    "tags": []
   },
   "outputs": [
    {
     "data": {
      "text/plain": [
       "['dermatology', 'optometry']"
      ]
     },
     "execution_count": 53,
     "metadata": {},
     "output_type": "execute_result"
    }
   ],
   "source": [
    "train_dir = os.path.join(dataset_dir, 'train')\n",
    "os.listdir(train_dir)"
   ]
  },
  {
   "cell_type": "code",
   "execution_count": 54,
   "metadata": {
    "id": "R7g8hFvzWLIZ",
    "tags": []
   },
   "outputs": [
    {
     "name": "stdout",
     "output_type": "stream",
     "text": [
      "Can you recommend treatments for reducing the appearance of sun damage or age spots?\n"
     ]
    }
   ],
   "source": [
    "# displaying sample file\n",
    "\n",
    "sample_file = os.path.join(train_dir, 'dermatology/100.txt')\n",
    "with open(sample_file) as f:\n",
    "  print(f.read())"
   ]
  },
  {
   "cell_type": "markdown",
   "metadata": {
    "id": "Mk20TEm6ZRFP"
   },
   "source": [
    "### Load the dataset\n",
    "\n",
    "Loading the data off disk and prepare it into a format suitable for training with [text_dataset_from_directory](https://www.tensorflow.org/api_docs/python/tf/keras/preprocessing/text_dataset_from_directory) utility, which expects a directory structure as follows.\n",
    "\n",
    "```\n",
    "main_directory/\n",
    "...class_a/\n",
    "......a_text_1.txt\n",
    "......a_text_2.txt\n",
    "...class_b/\n",
    "......b_text_1.txt\n",
    "......b_text_2.txt\n",
    "```"
   ]
  },
  {
   "cell_type": "markdown",
   "metadata": {
    "id": "nQauv38Lnok3"
   },
   "source": [
    "`class_a` and `class_b` can be found in  `classification_data/train/dermatology` and `classification_data/train/family_medicine`"
   ]
  },
  {
   "cell_type": "markdown",
   "metadata": {
    "id": "95kkUdRoaeMw"
   },
   "source": [
    "Use the `text_dataset_from_directory` utility to create a labeled `tf.data.Dataset` [tf.data](https://www.tensorflow.org/guide/data)."
   ]
  },
  {
   "cell_type": "markdown",
   "metadata": {
    "id": "SzxazN8Hq1pF"
   },
   "source": [
    "Note:  When using the `validation_split` and `subset` arguments, make sure to either specify a random seed, or to pass `shuffle=False`, so that the validation and training splits have no overlap."
   ]
  },
  {
   "cell_type": "code",
   "execution_count": 55,
   "metadata": {
    "id": "nOrK-MTYaw3C",
    "tags": []
   },
   "outputs": [
    {
     "name": "stdout",
     "output_type": "stream",
     "text": [
      "Found 400 files belonging to 2 classes.\n",
      "Using 320 files for training.\n",
      "Found 400 files belonging to 2 classes.\n",
      "Using 80 files for validation.\n",
      "Found 400 files belonging to 2 classes.\n"
     ]
    }
   ],
   "source": [
    "batch_size = 20\n",
    "seed = 42\n",
    "\n",
    "train_dir = os.path.join(dataset_dir, 'train')\n",
    "val_dir = train_dir\n",
    "test_dir = os.path.join(dataset_dir, 'test')\n",
    "\n",
    "# creates training dataset\n",
    "raw_train_ds = tf.keras.utils.text_dataset_from_directory(\n",
    "    train_dir, \n",
    "    batch_size=batch_size, \n",
    "    validation_split=0.2, \n",
    "    subset='training', \n",
    "    seed=seed)\n",
    "\n",
    "# creates validation dataset\n",
    "raw_val_ds = tf.keras.utils.text_dataset_from_directory(\n",
    "    train_dir, \n",
    "    batch_size=batch_size, \n",
    "    validation_split=0.2, \n",
    "    subset='validation', \n",
    "    seed=seed)\n",
    "\n",
    "# creates test dataset\n",
    "raw_test_ds = tf.keras.utils.text_dataset_from_directory(\n",
    "    test_dir, \n",
    "    batch_size=batch_size)"
   ]
  },
  {
   "cell_type": "code",
   "execution_count": 56,
   "metadata": {
    "id": "51wNaPPApk1K",
    "tags": []
   },
   "outputs": [
    {
     "name": "stdout",
     "output_type": "stream",
     "text": [
      "Review b'What is the best way to care for my skin if I have seborrheic dermatitis?'\n",
      "Label 0\n",
      "Review b'Can you provide information on the effects of high-altitude environments on my eyes?'\n",
      "Label 1\n",
      "Review b'What is the best way to care for my skin if I have a bacterial skin infection?'\n",
      "Label 0\n"
     ]
    }
   ],
   "source": [
    "for text_batch, label_batch in raw_train_ds.take(1):\n",
    "  for i in range(3):\n",
    "    print(\"Review\", text_batch.numpy()[i])\n",
    "    print(\"Label\", label_batch.numpy()[i])"
   ]
  },
  {
   "cell_type": "code",
   "execution_count": 57,
   "metadata": {
    "id": "MlICTG8spyO2",
    "tags": []
   },
   "outputs": [
    {
     "name": "stdout",
     "output_type": "stream",
     "text": [
      "Label 0 corresponds to dermatology\n",
      "Label 1 corresponds to optometry\n"
     ]
    }
   ],
   "source": [
    "print(\"Label 0 corresponds to\", raw_train_ds.class_names[0])\n",
    "print(\"Label 1 corresponds to\", raw_train_ds.class_names[1])"
   ]
  },
  {
   "cell_type": "markdown",
   "metadata": {
    "id": "qJmTiO0IYAjm",
    "tags": []
   },
   "source": [
    "### Prepare the dataset for training\n",
    "\n",
    "Standardizing, tokenizing, and vectorizing the data using `tf.keras.layers.TextVectorization`"
   ]
  },
  {
   "cell_type": "code",
   "execution_count": 58,
   "metadata": {
    "id": "SDRI_s_tX1Hk",
    "tags": []
   },
   "outputs": [],
   "source": [
    "# standardization for removing html tags\n",
    "def custom_standardization(input_data):\n",
    "  lowercase = tf.strings.lower(input_data)\n",
    "  stripped_html = tf.strings.regex_replace(lowercase, '<br />', ' ')\n",
    "  return tf.strings.regex_replace(stripped_html,\n",
    "                                  '[%s]' % re.escape(string.punctuation),\n",
    "                                  '')"
   ]
  },
  {
   "cell_type": "code",
   "execution_count": 59,
   "metadata": {
    "id": "-c76RvSzsMnX",
    "tags": []
   },
   "outputs": [],
   "source": [
    "max_features = 10000\n",
    "sequence_length = 250\n",
    "\n",
    "vectorize_layer = layers.TextVectorization(\n",
    "    standardize=custom_standardization,\n",
    "    max_tokens=max_features,\n",
    "    output_mode='int',\n",
    "    output_sequence_length=sequence_length)"
   ]
  },
  {
   "cell_type": "markdown",
   "metadata": {
    "id": "vlFOpfF6scT6"
   },
   "source": [
    "Calling `adapt` to fit the state of the preprocessing layer to the dataset to get model to build an index of strings to integers."
   ]
  },
  {
   "cell_type": "code",
   "execution_count": 60,
   "metadata": {
    "id": "GH4_2ZGJsa_X",
    "tags": []
   },
   "outputs": [],
   "source": [
    "# Make a text-only dataset (without labels), then call adapt\n",
    "train_text = raw_train_ds.map(lambda x, y: x)\n",
    "vectorize_layer.adapt(train_text)"
   ]
  },
  {
   "cell_type": "code",
   "execution_count": 61,
   "metadata": {
    "id": "SCIg_T50wOCU",
    "tags": []
   },
   "outputs": [],
   "source": [
    "def vectorize_text(text, label):\n",
    "  text = tf.expand_dims(text, -1)\n",
    "  return vectorize_layer(text), label"
   ]
  },
  {
   "cell_type": "code",
   "execution_count": 62,
   "metadata": {
    "id": "XULcm6B3xQIO",
    "tags": []
   },
   "outputs": [
    {
     "name": "stdout",
     "output_type": "stream",
     "text": [
      "Review tf.Tensor(b'Are there any specific dietary recommendations to support healthy skin?', shape=(), dtype=string)\n",
      "Label dermatology\n",
      "Vectorized review (<tf.Tensor: shape=(1, 250), dtype=int64, numpy=\n",
      "array([[ 17,  28,  44,  26, 199, 322,  18, 304, 264,  10,   0,   0,   0,\n",
      "          0,   0,   0,   0,   0,   0,   0,   0,   0,   0,   0,   0,   0,\n",
      "          0,   0,   0,   0,   0,   0,   0,   0,   0,   0,   0,   0,   0,\n",
      "          0,   0,   0,   0,   0,   0,   0,   0,   0,   0,   0,   0,   0,\n",
      "          0,   0,   0,   0,   0,   0,   0,   0,   0,   0,   0,   0,   0,\n",
      "          0,   0,   0,   0,   0,   0,   0,   0,   0,   0,   0,   0,   0,\n",
      "          0,   0,   0,   0,   0,   0,   0,   0,   0,   0,   0,   0,   0,\n",
      "          0,   0,   0,   0,   0,   0,   0,   0,   0,   0,   0,   0,   0,\n",
      "          0,   0,   0,   0,   0,   0,   0,   0,   0,   0,   0,   0,   0,\n",
      "          0,   0,   0,   0,   0,   0,   0,   0,   0,   0,   0,   0,   0,\n",
      "          0,   0,   0,   0,   0,   0,   0,   0,   0,   0,   0,   0,   0,\n",
      "          0,   0,   0,   0,   0,   0,   0,   0,   0,   0,   0,   0,   0,\n",
      "          0,   0,   0,   0,   0,   0,   0,   0,   0,   0,   0,   0,   0,\n",
      "          0,   0,   0,   0,   0,   0,   0,   0,   0,   0,   0,   0,   0,\n",
      "          0,   0,   0,   0,   0,   0,   0,   0,   0,   0,   0,   0,   0,\n",
      "          0,   0,   0,   0,   0,   0,   0,   0,   0,   0,   0,   0,   0,\n",
      "          0,   0,   0,   0,   0,   0,   0,   0,   0,   0,   0,   0,   0,\n",
      "          0,   0,   0,   0,   0,   0,   0,   0,   0,   0,   0,   0,   0,\n",
      "          0,   0,   0,   0,   0,   0,   0,   0,   0,   0,   0,   0,   0,\n",
      "          0,   0,   0]], dtype=int64)>, <tf.Tensor: shape=(), dtype=int32, numpy=0>)\n"
     ]
    }
   ],
   "source": [
    "# retrieve a batch (of 32 reviews and labels) from the dataset\n",
    "text_batch, label_batch = next(iter(raw_train_ds))\n",
    "first_review, first_label = text_batch[0], label_batch[0]\n",
    "print(\"Review\", first_review)\n",
    "print(\"Label\", raw_train_ds.class_names[first_label])\n",
    "print(\"Vectorized review\", vectorize_text(first_review, first_label))"
   ]
  },
  {
   "cell_type": "code",
   "execution_count": 63,
   "metadata": {
    "id": "kRq9hTQzhVhW",
    "tags": []
   },
   "outputs": [
    {
     "name": "stdout",
     "output_type": "stream",
     "text": [
      "Vocabulary size: 408\n",
      "52 --->  symptoms\n",
      "65 --->  infections\n"
     ]
    }
   ],
   "source": [
    "print('Vocabulary size: {}'.format(len(vectorize_layer.get_vocabulary())))\n",
    "\n",
    "# for i in range(0,len(vectorize_layer.get_vocabulary())):\n",
    "#     print(i, \"--->\", vectorize_layer.get_vocabulary()[i])\n",
    "\n",
    "print(\"52 ---> \",vectorize_layer.get_vocabulary()[52])\n",
    "print(\"65 ---> \",vectorize_layer.get_vocabulary()[65])\n"
   ]
  },
  {
   "cell_type": "code",
   "execution_count": 64,
   "metadata": {
    "id": "2zhmpeViI1iG",
    "tags": []
   },
   "outputs": [],
   "source": [
    "train_ds = raw_train_ds.map(vectorize_text)\n",
    "val_ds = raw_val_ds.map(vectorize_text)\n",
    "test_ds = raw_test_ds.map(vectorize_text)"
   ]
  },
  {
   "cell_type": "markdown",
   "metadata": {
    "id": "YsVQyPMizjuO"
   },
   "source": [
    "### Configure the dataset for performance\n",
    "\n",
    "[data performance guide](https://www.tensorflow.org/guide/data_performance)."
   ]
  },
  {
   "cell_type": "code",
   "execution_count": 65,
   "metadata": {
    "id": "wMcs_H7izm5m",
    "tags": []
   },
   "outputs": [],
   "source": [
    "AUTOTUNE = tf.data.AUTOTUNE\n",
    "\n",
    "train_ds = train_ds.cache().prefetch(buffer_size=AUTOTUNE)\n",
    "val_ds = val_ds.cache().prefetch(buffer_size=AUTOTUNE)\n",
    "test_ds = test_ds.cache().prefetch(buffer_size=AUTOTUNE)"
   ]
  },
  {
   "cell_type": "markdown",
   "metadata": {
    "id": "LLC02j2g-llC"
   },
   "source": [
    "### Create the model"
   ]
  },
  {
   "cell_type": "code",
   "execution_count": 66,
   "metadata": {
    "id": "dkQP6in8yUBR",
    "tags": []
   },
   "outputs": [],
   "source": [
    "embedding_dim = 16"
   ]
  },
  {
   "cell_type": "code",
   "execution_count": 67,
   "metadata": {
    "id": "xpKOoWgu-llD",
    "tags": []
   },
   "outputs": [
    {
     "name": "stdout",
     "output_type": "stream",
     "text": [
      "Model: \"sequential_2\"\n",
      "_________________________________________________________________\n",
      " Layer (type)                Output Shape              Param #   \n",
      "=================================================================\n",
      " embedding_1 (Embedding)     (None, None, 16)          160016    \n",
      "                                                                 \n",
      " dropout_2 (Dropout)         (None, None, 16)          0         \n",
      "                                                                 \n",
      " global_average_pooling1d_1   (None, 16)               0         \n",
      " (GlobalAveragePooling1D)                                        \n",
      "                                                                 \n",
      " dropout_3 (Dropout)         (None, 16)                0         \n",
      "                                                                 \n",
      " dense_1 (Dense)             (None, 1)                 17        \n",
      "                                                                 \n",
      "=================================================================\n",
      "Total params: 160,033\n",
      "Trainable params: 160,033\n",
      "Non-trainable params: 0\n",
      "_________________________________________________________________\n"
     ]
    }
   ],
   "source": [
    "model = tf.keras.Sequential([\n",
    "  layers.Embedding(max_features + 1, embedding_dim),\n",
    "  layers.Dropout(0.2),\n",
    "  layers.GlobalAveragePooling1D(),\n",
    "  layers.Dropout(0.2),\n",
    "  layers.Dense(1)])\n",
    "\n",
    "model.summary()"
   ]
  },
  {
   "cell_type": "markdown",
   "metadata": {
    "id": "L4EqVWg4-llM"
   },
   "source": [
    "### Loss function and optimizer"
   ]
  },
  {
   "cell_type": "code",
   "execution_count": 68,
   "metadata": {
    "id": "Mr0GP-cQ-llN",
    "tags": []
   },
   "outputs": [],
   "source": [
    "model.compile(loss=losses.BinaryCrossentropy(from_logits=True),\n",
    "              optimizer='adam',\n",
    "              metrics=tf.metrics.BinaryAccuracy(threshold=0.0))"
   ]
  },
  {
   "cell_type": "markdown",
   "metadata": {
    "id": "35jv_fzP-llU"
   },
   "source": [
    "### Train the model"
   ]
  },
  {
   "cell_type": "code",
   "execution_count": 93,
   "metadata": {
    "id": "tXSGrjWZ-llW",
    "tags": []
   },
   "outputs": [
    {
     "name": "stdout",
     "output_type": "stream",
     "text": [
      "Epoch 1/100\n",
      "16/16 [==============================] - 0s 9ms/step - loss: 0.0960 - binary_accuracy: 0.9844 - val_loss: 0.0840 - val_binary_accuracy: 1.0000\n",
      "Epoch 2/100\n",
      "16/16 [==============================] - 0s 9ms/step - loss: 0.0966 - binary_accuracy: 0.9875 - val_loss: 0.0832 - val_binary_accuracy: 1.0000\n",
      "Epoch 3/100\n",
      "16/16 [==============================] - 0s 9ms/step - loss: 0.0914 - binary_accuracy: 0.9906 - val_loss: 0.0822 - val_binary_accuracy: 1.0000\n",
      "Epoch 4/100\n",
      "16/16 [==============================] - 0s 8ms/step - loss: 0.0965 - binary_accuracy: 0.9812 - val_loss: 0.0813 - val_binary_accuracy: 1.0000\n",
      "Epoch 5/100\n",
      "16/16 [==============================] - 0s 10ms/step - loss: 0.0909 - binary_accuracy: 0.9844 - val_loss: 0.0804 - val_binary_accuracy: 1.0000\n",
      "Epoch 6/100\n",
      "16/16 [==============================] - 0s 6ms/step - loss: 0.0942 - binary_accuracy: 0.9844 - val_loss: 0.0796 - val_binary_accuracy: 1.0000\n",
      "Epoch 7/100\n",
      "16/16 [==============================] - 0s 10ms/step - loss: 0.0927 - binary_accuracy: 0.9844 - val_loss: 0.0787 - val_binary_accuracy: 1.0000\n",
      "Epoch 8/100\n",
      "16/16 [==============================] - 0s 10ms/step - loss: 0.0913 - binary_accuracy: 0.9875 - val_loss: 0.0780 - val_binary_accuracy: 1.0000\n",
      "Epoch 9/100\n",
      "16/16 [==============================] - 0s 8ms/step - loss: 0.0887 - binary_accuracy: 0.9906 - val_loss: 0.0771 - val_binary_accuracy: 1.0000\n",
      "Epoch 10/100\n",
      "16/16 [==============================] - 0s 9ms/step - loss: 0.0906 - binary_accuracy: 0.9875 - val_loss: 0.0762 - val_binary_accuracy: 1.0000\n",
      "Epoch 11/100\n",
      "16/16 [==============================] - 0s 9ms/step - loss: 0.0889 - binary_accuracy: 0.9844 - val_loss: 0.0754 - val_binary_accuracy: 1.0000\n",
      "Epoch 12/100\n",
      "16/16 [==============================] - 0s 7ms/step - loss: 0.0890 - binary_accuracy: 0.9812 - val_loss: 0.0747 - val_binary_accuracy: 1.0000\n",
      "Epoch 13/100\n",
      "16/16 [==============================] - 0s 7ms/step - loss: 0.0876 - binary_accuracy: 0.9812 - val_loss: 0.0739 - val_binary_accuracy: 1.0000\n",
      "Epoch 14/100\n",
      "16/16 [==============================] - 0s 10ms/step - loss: 0.0841 - binary_accuracy: 0.9875 - val_loss: 0.0731 - val_binary_accuracy: 1.0000\n",
      "Epoch 15/100\n",
      "16/16 [==============================] - 0s 10ms/step - loss: 0.0845 - binary_accuracy: 0.9844 - val_loss: 0.0724 - val_binary_accuracy: 1.0000\n",
      "Epoch 16/100\n",
      "16/16 [==============================] - 0s 10ms/step - loss: 0.0890 - binary_accuracy: 0.9844 - val_loss: 0.0717 - val_binary_accuracy: 1.0000\n",
      "Epoch 17/100\n",
      "16/16 [==============================] - 0s 11ms/step - loss: 0.0853 - binary_accuracy: 0.9812 - val_loss: 0.0708 - val_binary_accuracy: 1.0000\n",
      "Epoch 18/100\n",
      "16/16 [==============================] - 0s 7ms/step - loss: 0.0833 - binary_accuracy: 0.9906 - val_loss: 0.0700 - val_binary_accuracy: 1.0000\n",
      "Epoch 19/100\n",
      "16/16 [==============================] - 0s 10ms/step - loss: 0.0854 - binary_accuracy: 0.9906 - val_loss: 0.0693 - val_binary_accuracy: 1.0000\n",
      "Epoch 20/100\n",
      "16/16 [==============================] - 0s 10ms/step - loss: 0.0816 - binary_accuracy: 0.9875 - val_loss: 0.0686 - val_binary_accuracy: 1.0000\n",
      "Epoch 21/100\n",
      "16/16 [==============================] - 0s 11ms/step - loss: 0.0833 - binary_accuracy: 0.9812 - val_loss: 0.0678 - val_binary_accuracy: 1.0000\n",
      "Epoch 22/100\n",
      "16/16 [==============================] - 0s 11ms/step - loss: 0.0807 - binary_accuracy: 0.9844 - val_loss: 0.0672 - val_binary_accuracy: 1.0000\n",
      "Epoch 23/100\n",
      "16/16 [==============================] - 0s 9ms/step - loss: 0.0804 - binary_accuracy: 0.9937 - val_loss: 0.0665 - val_binary_accuracy: 1.0000\n",
      "Epoch 24/100\n",
      "16/16 [==============================] - 0s 11ms/step - loss: 0.0770 - binary_accuracy: 0.9875 - val_loss: 0.0658 - val_binary_accuracy: 1.0000\n",
      "Epoch 25/100\n",
      "16/16 [==============================] - 0s 10ms/step - loss: 0.0800 - binary_accuracy: 0.9937 - val_loss: 0.0650 - val_binary_accuracy: 1.0000\n",
      "Epoch 26/100\n",
      "16/16 [==============================] - 0s 9ms/step - loss: 0.0806 - binary_accuracy: 0.9906 - val_loss: 0.0644 - val_binary_accuracy: 1.0000\n",
      "Epoch 27/100\n",
      "16/16 [==============================] - 0s 11ms/step - loss: 0.0779 - binary_accuracy: 0.9906 - val_loss: 0.0637 - val_binary_accuracy: 1.0000\n",
      "Epoch 28/100\n",
      "16/16 [==============================] - 0s 9ms/step - loss: 0.0784 - binary_accuracy: 0.9875 - val_loss: 0.0630 - val_binary_accuracy: 1.0000\n",
      "Epoch 29/100\n",
      "16/16 [==============================] - 0s 10ms/step - loss: 0.0748 - binary_accuracy: 0.9875 - val_loss: 0.0624 - val_binary_accuracy: 1.0000\n",
      "Epoch 30/100\n",
      "16/16 [==============================] - 0s 11ms/step - loss: 0.0743 - binary_accuracy: 0.9937 - val_loss: 0.0619 - val_binary_accuracy: 1.0000\n",
      "Epoch 31/100\n",
      "16/16 [==============================] - 0s 11ms/step - loss: 0.0747 - binary_accuracy: 0.9875 - val_loss: 0.0611 - val_binary_accuracy: 1.0000\n",
      "Epoch 32/100\n",
      "16/16 [==============================] - 0s 11ms/step - loss: 0.0744 - binary_accuracy: 0.9875 - val_loss: 0.0604 - val_binary_accuracy: 1.0000\n",
      "Epoch 33/100\n",
      "16/16 [==============================] - 0s 10ms/step - loss: 0.0747 - binary_accuracy: 0.9844 - val_loss: 0.0597 - val_binary_accuracy: 1.0000\n",
      "Epoch 34/100\n",
      "16/16 [==============================] - 0s 9ms/step - loss: 0.0715 - binary_accuracy: 0.9937 - val_loss: 0.0591 - val_binary_accuracy: 1.0000\n",
      "Epoch 35/100\n",
      "16/16 [==============================] - 0s 12ms/step - loss: 0.0689 - binary_accuracy: 0.9875 - val_loss: 0.0586 - val_binary_accuracy: 1.0000\n",
      "Epoch 36/100\n",
      "16/16 [==============================] - 0s 10ms/step - loss: 0.0690 - binary_accuracy: 0.9937 - val_loss: 0.0581 - val_binary_accuracy: 1.0000\n",
      "Epoch 37/100\n",
      "16/16 [==============================] - 0s 9ms/step - loss: 0.0706 - binary_accuracy: 0.9875 - val_loss: 0.0575 - val_binary_accuracy: 1.0000\n",
      "Epoch 38/100\n",
      "16/16 [==============================] - 0s 9ms/step - loss: 0.0700 - binary_accuracy: 0.9906 - val_loss: 0.0569 - val_binary_accuracy: 1.0000\n",
      "Epoch 39/100\n",
      "16/16 [==============================] - 0s 9ms/step - loss: 0.0720 - binary_accuracy: 0.9906 - val_loss: 0.0564 - val_binary_accuracy: 1.0000\n",
      "Epoch 40/100\n",
      "16/16 [==============================] - 0s 10ms/step - loss: 0.0692 - binary_accuracy: 0.9906 - val_loss: 0.0557 - val_binary_accuracy: 1.0000\n",
      "Epoch 41/100\n",
      "16/16 [==============================] - 0s 10ms/step - loss: 0.0684 - binary_accuracy: 0.9937 - val_loss: 0.0551 - val_binary_accuracy: 1.0000\n",
      "Epoch 42/100\n",
      "16/16 [==============================] - 0s 8ms/step - loss: 0.0678 - binary_accuracy: 0.9906 - val_loss: 0.0545 - val_binary_accuracy: 1.0000\n",
      "Epoch 43/100\n",
      "16/16 [==============================] - 0s 11ms/step - loss: 0.0691 - binary_accuracy: 0.9906 - val_loss: 0.0541 - val_binary_accuracy: 1.0000\n",
      "Epoch 44/100\n",
      "16/16 [==============================] - 0s 9ms/step - loss: 0.0688 - binary_accuracy: 0.9906 - val_loss: 0.0533 - val_binary_accuracy: 1.0000\n",
      "Epoch 45/100\n",
      "16/16 [==============================] - 0s 9ms/step - loss: 0.0668 - binary_accuracy: 0.9875 - val_loss: 0.0529 - val_binary_accuracy: 1.0000\n",
      "Epoch 46/100\n",
      "16/16 [==============================] - 0s 10ms/step - loss: 0.0641 - binary_accuracy: 0.9937 - val_loss: 0.0524 - val_binary_accuracy: 1.0000\n",
      "Epoch 47/100\n",
      "16/16 [==============================] - 0s 9ms/step - loss: 0.0642 - binary_accuracy: 0.9906 - val_loss: 0.0518 - val_binary_accuracy: 1.0000\n",
      "Epoch 48/100\n",
      "16/16 [==============================] - 0s 9ms/step - loss: 0.0682 - binary_accuracy: 0.9906 - val_loss: 0.0512 - val_binary_accuracy: 1.0000\n",
      "Epoch 49/100\n",
      "16/16 [==============================] - 0s 10ms/step - loss: 0.0662 - binary_accuracy: 0.9937 - val_loss: 0.0506 - val_binary_accuracy: 1.0000\n",
      "Epoch 50/100\n",
      "16/16 [==============================] - 0s 9ms/step - loss: 0.0673 - binary_accuracy: 0.9906 - val_loss: 0.0502 - val_binary_accuracy: 1.0000\n",
      "Epoch 51/100\n",
      "16/16 [==============================] - 0s 9ms/step - loss: 0.0639 - binary_accuracy: 0.9937 - val_loss: 0.0497 - val_binary_accuracy: 1.0000\n",
      "Epoch 52/100\n",
      "16/16 [==============================] - 0s 10ms/step - loss: 0.0630 - binary_accuracy: 0.9937 - val_loss: 0.0492 - val_binary_accuracy: 1.0000\n",
      "Epoch 53/100\n",
      "16/16 [==============================] - 0s 11ms/step - loss: 0.0633 - binary_accuracy: 0.9906 - val_loss: 0.0488 - val_binary_accuracy: 1.0000\n",
      "Epoch 54/100\n",
      "16/16 [==============================] - 0s 10ms/step - loss: 0.0619 - binary_accuracy: 0.9937 - val_loss: 0.0484 - val_binary_accuracy: 1.0000\n",
      "Epoch 55/100\n",
      "16/16 [==============================] - 0s 9ms/step - loss: 0.0596 - binary_accuracy: 0.9906 - val_loss: 0.0479 - val_binary_accuracy: 1.0000\n",
      "Epoch 56/100\n",
      "16/16 [==============================] - 0s 9ms/step - loss: 0.0611 - binary_accuracy: 0.9937 - val_loss: 0.0472 - val_binary_accuracy: 1.0000\n",
      "Epoch 57/100\n",
      "16/16 [==============================] - 0s 10ms/step - loss: 0.0592 - binary_accuracy: 0.9937 - val_loss: 0.0467 - val_binary_accuracy: 1.0000\n",
      "Epoch 58/100\n",
      "16/16 [==============================] - 0s 10ms/step - loss: 0.0600 - binary_accuracy: 0.9937 - val_loss: 0.0464 - val_binary_accuracy: 1.0000\n",
      "Epoch 59/100\n",
      "16/16 [==============================] - 0s 8ms/step - loss: 0.0590 - binary_accuracy: 0.9937 - val_loss: 0.0459 - val_binary_accuracy: 1.0000\n",
      "Epoch 60/100\n",
      "16/16 [==============================] - 0s 9ms/step - loss: 0.0598 - binary_accuracy: 0.9937 - val_loss: 0.0452 - val_binary_accuracy: 1.0000\n",
      "Epoch 61/100\n",
      "16/16 [==============================] - 0s 6ms/step - loss: 0.0581 - binary_accuracy: 0.9937 - val_loss: 0.0448 - val_binary_accuracy: 1.0000\n",
      "Epoch 62/100\n",
      "16/16 [==============================] - 0s 9ms/step - loss: 0.0595 - binary_accuracy: 0.9937 - val_loss: 0.0443 - val_binary_accuracy: 1.0000\n",
      "Epoch 63/100\n",
      "16/16 [==============================] - 0s 10ms/step - loss: 0.0568 - binary_accuracy: 0.9937 - val_loss: 0.0440 - val_binary_accuracy: 1.0000\n",
      "Epoch 64/100\n",
      "16/16 [==============================] - 0s 10ms/step - loss: 0.0581 - binary_accuracy: 0.9906 - val_loss: 0.0435 - val_binary_accuracy: 1.0000\n",
      "Epoch 65/100\n",
      "16/16 [==============================] - 0s 10ms/step - loss: 0.0587 - binary_accuracy: 0.9937 - val_loss: 0.0431 - val_binary_accuracy: 1.0000\n",
      "Epoch 66/100\n",
      "16/16 [==============================] - 0s 10ms/step - loss: 0.0548 - binary_accuracy: 0.9937 - val_loss: 0.0426 - val_binary_accuracy: 1.0000\n",
      "Epoch 67/100\n",
      "16/16 [==============================] - 0s 6ms/step - loss: 0.0550 - binary_accuracy: 0.9906 - val_loss: 0.0422 - val_binary_accuracy: 1.0000\n",
      "Epoch 68/100\n",
      "16/16 [==============================] - 0s 10ms/step - loss: 0.0547 - binary_accuracy: 0.9937 - val_loss: 0.0418 - val_binary_accuracy: 1.0000\n",
      "Epoch 69/100\n",
      "16/16 [==============================] - 0s 11ms/step - loss: 0.0557 - binary_accuracy: 0.9937 - val_loss: 0.0414 - val_binary_accuracy: 1.0000\n",
      "Epoch 70/100\n",
      "16/16 [==============================] - 0s 9ms/step - loss: 0.0515 - binary_accuracy: 0.9937 - val_loss: 0.0408 - val_binary_accuracy: 1.0000\n",
      "Epoch 71/100\n",
      "16/16 [==============================] - 0s 10ms/step - loss: 0.0552 - binary_accuracy: 0.9937 - val_loss: 0.0406 - val_binary_accuracy: 1.0000\n",
      "Epoch 72/100\n",
      "16/16 [==============================] - 0s 10ms/step - loss: 0.0552 - binary_accuracy: 0.9937 - val_loss: 0.0402 - val_binary_accuracy: 1.0000\n",
      "Epoch 73/100\n",
      "16/16 [==============================] - 0s 10ms/step - loss: 0.0524 - binary_accuracy: 0.9937 - val_loss: 0.0397 - val_binary_accuracy: 1.0000\n",
      "Epoch 74/100\n",
      "16/16 [==============================] - 0s 10ms/step - loss: 0.0519 - binary_accuracy: 0.9937 - val_loss: 0.0392 - val_binary_accuracy: 1.0000\n",
      "Epoch 75/100\n",
      "16/16 [==============================] - 0s 10ms/step - loss: 0.0503 - binary_accuracy: 0.9937 - val_loss: 0.0389 - val_binary_accuracy: 1.0000\n",
      "Epoch 76/100\n",
      "16/16 [==============================] - 0s 9ms/step - loss: 0.0510 - binary_accuracy: 0.9937 - val_loss: 0.0386 - val_binary_accuracy: 1.0000\n",
      "Epoch 77/100\n",
      "16/16 [==============================] - 0s 10ms/step - loss: 0.0511 - binary_accuracy: 0.9937 - val_loss: 0.0382 - val_binary_accuracy: 1.0000\n",
      "Epoch 78/100\n",
      "16/16 [==============================] - 0s 8ms/step - loss: 0.0499 - binary_accuracy: 0.9937 - val_loss: 0.0379 - val_binary_accuracy: 1.0000\n",
      "Epoch 79/100\n",
      "16/16 [==============================] - 0s 10ms/step - loss: 0.0498 - binary_accuracy: 0.9937 - val_loss: 0.0375 - val_binary_accuracy: 1.0000\n",
      "Epoch 80/100\n",
      "16/16 [==============================] - 0s 10ms/step - loss: 0.0511 - binary_accuracy: 0.9937 - val_loss: 0.0371 - val_binary_accuracy: 1.0000\n",
      "Epoch 81/100\n",
      "16/16 [==============================] - 0s 8ms/step - loss: 0.0482 - binary_accuracy: 0.9937 - val_loss: 0.0368 - val_binary_accuracy: 1.0000\n",
      "Epoch 82/100\n",
      "16/16 [==============================] - 0s 10ms/step - loss: 0.0480 - binary_accuracy: 0.9937 - val_loss: 0.0364 - val_binary_accuracy: 1.0000\n",
      "Epoch 83/100\n",
      "16/16 [==============================] - 0s 8ms/step - loss: 0.0468 - binary_accuracy: 0.9937 - val_loss: 0.0358 - val_binary_accuracy: 1.0000\n",
      "Epoch 84/100\n",
      "16/16 [==============================] - 0s 9ms/step - loss: 0.0510 - binary_accuracy: 0.9937 - val_loss: 0.0356 - val_binary_accuracy: 1.0000\n",
      "Epoch 85/100\n",
      "16/16 [==============================] - 0s 10ms/step - loss: 0.0470 - binary_accuracy: 0.9937 - val_loss: 0.0352 - val_binary_accuracy: 1.0000\n",
      "Epoch 86/100\n",
      "16/16 [==============================] - 0s 8ms/step - loss: 0.0509 - binary_accuracy: 0.9937 - val_loss: 0.0348 - val_binary_accuracy: 1.0000\n",
      "Epoch 87/100\n",
      "16/16 [==============================] - 0s 10ms/step - loss: 0.0473 - binary_accuracy: 0.9937 - val_loss: 0.0344 - val_binary_accuracy: 1.0000\n",
      "Epoch 88/100\n",
      "16/16 [==============================] - 0s 8ms/step - loss: 0.0466 - binary_accuracy: 0.9937 - val_loss: 0.0342 - val_binary_accuracy: 1.0000\n",
      "Epoch 89/100\n",
      "16/16 [==============================] - 0s 9ms/step - loss: 0.0438 - binary_accuracy: 0.9937 - val_loss: 0.0340 - val_binary_accuracy: 1.0000\n",
      "Epoch 90/100\n",
      "16/16 [==============================] - 0s 9ms/step - loss: 0.0451 - binary_accuracy: 0.9969 - val_loss: 0.0335 - val_binary_accuracy: 1.0000\n",
      "Epoch 91/100\n",
      "16/16 [==============================] - 0s 9ms/step - loss: 0.0465 - binary_accuracy: 0.9937 - val_loss: 0.0332 - val_binary_accuracy: 1.0000\n",
      "Epoch 92/100\n",
      "16/16 [==============================] - 0s 9ms/step - loss: 0.0423 - binary_accuracy: 0.9937 - val_loss: 0.0329 - val_binary_accuracy: 1.0000\n",
      "Epoch 93/100\n",
      "16/16 [==============================] - 0s 10ms/step - loss: 0.0443 - binary_accuracy: 0.9969 - val_loss: 0.0325 - val_binary_accuracy: 1.0000\n",
      "Epoch 94/100\n",
      "16/16 [==============================] - 0s 9ms/step - loss: 0.0425 - binary_accuracy: 0.9937 - val_loss: 0.0322 - val_binary_accuracy: 1.0000\n",
      "Epoch 95/100\n",
      "16/16 [==============================] - 0s 7ms/step - loss: 0.0456 - binary_accuracy: 0.9937 - val_loss: 0.0319 - val_binary_accuracy: 1.0000\n",
      "Epoch 96/100\n",
      "16/16 [==============================] - 0s 9ms/step - loss: 0.0425 - binary_accuracy: 0.9969 - val_loss: 0.0318 - val_binary_accuracy: 1.0000\n",
      "Epoch 97/100\n",
      "16/16 [==============================] - 0s 10ms/step - loss: 0.0416 - binary_accuracy: 0.9969 - val_loss: 0.0317 - val_binary_accuracy: 1.0000\n",
      "Epoch 98/100\n",
      "16/16 [==============================] - 0s 9ms/step - loss: 0.0431 - binary_accuracy: 0.9937 - val_loss: 0.0313 - val_binary_accuracy: 1.0000\n",
      "Epoch 99/100\n",
      "16/16 [==============================] - 0s 10ms/step - loss: 0.0428 - binary_accuracy: 0.9937 - val_loss: 0.0308 - val_binary_accuracy: 1.0000\n",
      "Epoch 100/100\n",
      "16/16 [==============================] - 0s 9ms/step - loss: 0.0416 - binary_accuracy: 0.9937 - val_loss: 0.0304 - val_binary_accuracy: 1.0000\n"
     ]
    }
   ],
   "source": [
    "epochs = 100\n",
    "history = model.fit(\n",
    "    train_ds,\n",
    "    validation_data=val_ds,\n",
    "    epochs=epochs)"
   ]
  },
  {
   "cell_type": "markdown",
   "metadata": {
    "id": "9EEGuDVuzb5r"
   },
   "source": [
    "### Evaluate the model"
   ]
  },
  {
   "cell_type": "code",
   "execution_count": 94,
   "metadata": {
    "id": "zOMKywn4zReN",
    "tags": []
   },
   "outputs": [
    {
     "name": "stdout",
     "output_type": "stream",
     "text": [
      "20/20 [==============================] - 0s 3ms/step - loss: 0.1960 - binary_accuracy: 0.9450\n",
      "Loss:  0.19603967666625977\n",
      "Accuracy:  0.9449999928474426\n"
     ]
    }
   ],
   "source": [
    "loss, accuracy = model.evaluate(test_ds)\n",
    "\n",
    "print(\"Loss: \", loss)\n",
    "print(\"Accuracy: \", accuracy)"
   ]
  },
  {
   "cell_type": "markdown",
   "metadata": {
    "id": "ldbQqCw2Xc1W"
   },
   "source": [
    "### Create a plot of accuracy and loss over time"
   ]
  },
  {
   "cell_type": "code",
   "execution_count": 73,
   "metadata": {
    "id": "-YcvZsdvWfDf",
    "tags": []
   },
   "outputs": [
    {
     "data": {
      "text/plain": [
       "dict_keys(['loss', 'binary_accuracy', 'val_loss', 'val_binary_accuracy'])"
      ]
     },
     "execution_count": 73,
     "metadata": {},
     "output_type": "execute_result"
    }
   ],
   "source": [
    "history_dict = history.history\n",
    "history_dict.keys()"
   ]
  },
  {
   "cell_type": "code",
   "execution_count": 74,
   "metadata": {
    "id": "2SEMeQ5YXs8z",
    "tags": []
   },
   "outputs": [
    {
     "data": {
      "image/png": "[encoded data removed]",
      "text/plain": [
       "<Figure size 432x288 with 1 Axes>"
      ]
     },
     "metadata": {
      "needs_background": "light"
     },
     "output_type": "display_data"
    }
   ],
   "source": [
    "acc = history_dict['binary_accuracy']\n",
    "val_acc = history_dict['val_binary_accuracy']\n",
    "loss = history_dict['loss']\n",
    "val_loss = history_dict['val_loss']\n",
    "\n",
    "epochs = range(1, len(acc) + 1)\n",
    "\n",
    "# \"bo\" is for \"blue dot\"\n",
    "plt.plot(epochs, loss, 'bo', label='Training loss')\n",
    "# b is for \"solid blue line\"\n",
    "plt.plot(epochs, val_loss, 'b', label='Validation loss')\n",
    "plt.title('Training and validation loss')\n",
    "plt.xlabel('Epochs')\n",
    "plt.ylabel('Loss')\n",
    "plt.legend()\n",
    "\n",
    "plt.show()"
   ]
  },
  {
   "cell_type": "code",
   "execution_count": 75,
   "metadata": {
    "id": "Z3PJemLPXwz_",
    "tags": []
   },
   "outputs": [
    {
     "data": {
      "image/png": "[encoded data removed]",
      "text/plain": [
       "<Figure size 432x288 with 1 Axes>"
      ]
     },
     "metadata": {
      "needs_background": "light"
     },
     "output_type": "display_data"
    }
   ],
   "source": [
    "plt.plot(epochs, acc, 'bo', label='Training acc')\n",
    "plt.plot(epochs, val_acc, 'b', label='Validation acc')\n",
    "plt.title('Training and validation accuracy')\n",
    "plt.xlabel('Epochs')\n",
    "plt.ylabel('Accuracy')\n",
    "plt.legend(loc='lower right')\n",
    "\n",
    "plt.show()"
   ]
  },
  {
   "cell_type": "markdown",
   "metadata": {
    "id": "-to23J3Vy5d3"
   },
   "source": [
    "## Export the model"
   ]
  },
  {
   "cell_type": "code",
   "execution_count": 95,
   "metadata": {
    "id": "FWXsMvryuZuq",
    "tags": []
   },
   "outputs": [
    {
     "name": "stdout",
     "output_type": "stream",
     "text": [
      "20/20 [==============================] - 1s 6ms/step - loss: 0.1960 - accuracy: 0.9450\n",
      "0.9449999928474426\n"
     ]
    }
   ],
   "source": [
    "export_model = tf.keras.Sequential([\n",
    "  vectorize_layer,\n",
    "  model,\n",
    "  layers.Activation('sigmoid')\n",
    "])\n",
    "\n",
    "export_model.compile(\n",
    "    loss=losses.BinaryCrossentropy(from_logits=False), optimizer=\"adam\", metrics=['accuracy']\n",
    ")\n",
    "\n",
    "# Test it with `raw_test_ds`, which yields raw strings\n",
    "loss, accuracy = export_model.evaluate(raw_test_ds)\n",
    "print(accuracy)"
   ]
  },
  {
   "cell_type": "markdown",
   "metadata": {
    "id": "TwQgoN88LoEF",
    "tags": []
   },
   "source": [
    "### Inference on new data\n",
    "\n",
    "`model.predict()` for new tests"
   ]
  },
  {
   "cell_type": "code",
   "execution_count": 96,
   "metadata": {
    "id": "QW355HH5L49K",
    "tags": []
   },
   "outputs": [
    {
     "name": "stdout",
     "output_type": "stream",
     "text": [
      "1/1 [==============================] - 0s 161ms/step\n"
     ]
    },
    {
     "data": {
      "text/plain": [
       "array([[0.04104062],\n",
       "       [0.06713   ],\n",
       "       [0.05873717],\n",
       "       [0.92884684],\n",
       "       [0.9361604 ],\n",
       "       [0.4141862 ]], dtype=float32)"
      ]
     },
     "execution_count": 96,
     "metadata": {},
     "output_type": "execute_result"
    }
   ],
   "source": [
    "examples = [\n",
    "    \"What should I do to make my skincare routine better?\",\n",
    "    \"What is the best way to deal with eczema\",\n",
    "    \"How should I deal with saggy skin?\",\n",
    "    \"What are the effects of blue light on my eyes?\",\n",
    "    \"How does a lack of sleep affect my eyes?\",\n",
    "    \"How can I deal with cysts on my eyes?\"\n",
    "]\n",
    "\n",
    "export_model.predict(examples)"
   ]
  },
  {
   "cell_type": "code",
   "execution_count": 91,
   "metadata": {},
   "outputs": [
    {
     "name": "stdout",
     "output_type": "stream",
     "text": [
      "1/1 [==============================] - 0s 81ms/step\n"
     ]
    },
    {
     "data": {
      "text/plain": [
       "array([[0.41696256],\n",
       "       [0.6110917 ]], dtype=float32)"
      ]
     },
     "execution_count": 91,
     "metadata": {},
     "output_type": "execute_result"
    }
   ],
   "source": [
    "examples = [\n",
    "    \"Why is my skin itchy and red?\",\n",
    "    \"Why are my eyes watering?\" \n",
    "]\n",
    "export_model.predict(examples)"
   ]
  },
  {
   "cell_type": "code",
   "execution_count": null,
   "metadata": {},
   "outputs": [],
   "source": []
  }
 ],
 "metadata": {
  "accelerator": "GPU",
  "colab": {
   "collapsed_sections": [],
   "name": "text_classification.ipynb",
   "toc_visible": true
  },
  "kernelspec": {
   "display_name": "Python 3 (ipykernel)",
   "language": "python",
   "name": "python3"
  },
  "language_info": {
   "codemirror_mode": {
    "name": "ipython",
    "version": 3
   },
   "file_extension": ".py",
   "mimetype": "text/x-python",
   "name": "python",
   "nbconvert_exporter": "python",
   "pygments_lexer": "ipython3",
   "version": "3.9.12"
  }
 },
 "nbformat": 4,
 "nbformat_minor": 4
}
