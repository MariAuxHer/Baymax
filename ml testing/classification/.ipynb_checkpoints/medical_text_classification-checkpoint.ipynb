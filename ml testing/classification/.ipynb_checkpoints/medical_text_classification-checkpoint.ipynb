{
 "cells": [
  {
   "cell_type": "markdown",
   "metadata": {
    "id": "ItXfxkxvosLH"
   },
   "source": [
    "# Basic text classification: Medical Taxonomy"
   ]
  },
  {
   "cell_type": "code",
   "execution_count": 97,
   "metadata": {
    "id": "8RZOuS9LWQvv",
    "tags": []
   },
   "outputs": [],
   "source": [
    "import matplotlib.pyplot as plt\n",
    "import os\n",
    "import re\n",
    "import shutil\n",
    "import string\n",
    "import tensorflow as tf\n",
    "\n",
    "from tensorflow.keras import layers\n",
    "from tensorflow.keras import losses\n"
   ]
  },
  {
   "cell_type": "code",
   "execution_count": 98,
   "metadata": {
    "id": "6-tTFS04dChr",
    "tags": []
   },
   "outputs": [
    {
     "name": "stdout",
     "output_type": "stream",
     "text": [
      "2.9.0\n"
     ]
    }
   ],
   "source": [
    "print(tf.__version__)"
   ]
  },
  {
   "cell_type": "code",
   "execution_count": 99,
   "metadata": {
    "id": "k7ZYnuajVlFN",
    "tags": []
   },
   "outputs": [],
   "source": [
    "dataset_dir = os.path.join('C:/Users/jhuff19/Desktop/Baymax/classification/classification_data')"
   ]
  },
  {
   "cell_type": "code",
   "execution_count": 100,
   "metadata": {
    "id": "355CfOvsV1pl",
    "tags": []
   },
   "outputs": [
    {
     "data": {
      "text/plain": [
       "['.ipynb_checkpoints',\n",
       " 'dermatology_test.txt',\n",
       " 'dermatology_train.txt',\n",
       " 'family_medicine_test.txt',\n",
       " 'family_medicine_train.txt',\n",
       " 'neurology_test.txt',\n",
       " 'neurology_train.txt',\n",
       " 'optometry_test.txt',\n",
       " 'optometry_train.txt',\n",
       " 'podiatry_test.txt',\n",
       " 'podiatry_train.txt',\n",
       " 'test',\n",
       " 'train']"
      ]
     },
     "execution_count": 100,
     "metadata": {},
     "output_type": "execute_result"
    }
   ],
   "source": [
    "os.listdir(dataset_dir)"
   ]
  },
  {
   "cell_type": "code",
   "execution_count": 102,
   "metadata": {
    "id": "7ASND15oXpF1",
    "tags": []
   },
   "outputs": [
    {
     "data": {
      "text/plain": [
       "['.ipynb_checkpoints', 'dermatology', 'neurology', 'optometry', 'podiatry']"
      ]
     },
     "execution_count": 102,
     "metadata": {},
     "output_type": "execute_result"
    }
   ],
   "source": [
    "train_dir = os.path.join(dataset_dir, 'train')\n",
    "os.listdir(train_dir)"
   ]
  },
  {
   "cell_type": "code",
   "execution_count": 104,
   "metadata": {
    "id": "R7g8hFvzWLIZ",
    "tags": []
   },
   "outputs": [
    {
     "name": "stdout",
     "output_type": "stream",
     "text": [
      "Can you recommend treatments for reducing the appearance of sun damage or age spots?\n"
     ]
    }
   ],
   "source": [
    "# displaying sample file\n",
    "\n",
    "sample_file = os.path.join(train_dir, 'dermatology/100.txt')\n",
    "with open(sample_file) as f:\n",
    "  print(f.read())"
   ]
  },
  {
   "cell_type": "markdown",
   "metadata": {
    "id": "Mk20TEm6ZRFP"
   },
   "source": [
    "### Load the dataset\n",
    "\n",
    "Loading the data off disk and prepare it into a format suitable for training with [text_dataset_from_directory](https://www.tensorflow.org/api_docs/python/tf/keras/preprocessing/text_dataset_from_directory) utility, which expects a directory structure as follows.\n",
    "\n",
    "```\n",
    "main_directory/\n",
    "...class_a/\n",
    "......a_text_1.txt\n",
    "......a_text_2.txt\n",
    "...class_b/\n",
    "......b_text_1.txt\n",
    "......b_text_2.txt\n",
    "```"
   ]
  },
  {
   "cell_type": "markdown",
   "metadata": {
    "id": "nQauv38Lnok3"
   },
   "source": [
    "`class_a` and `class_b` can be found in  `classification_data/train/dermatology` and `classification_data/train/family_medicine`"
   ]
  },
  {
   "cell_type": "markdown",
   "metadata": {
    "id": "95kkUdRoaeMw"
   },
   "source": [
    "Use the `text_dataset_from_directory` utility to create a labeled `tf.data.Dataset` [tf.data](https://www.tensorflow.org/guide/data)."
   ]
  },
  {
   "cell_type": "markdown",
   "metadata": {
    "id": "SzxazN8Hq1pF"
   },
   "source": [
    "Note:  When using the `validation_split` and `subset` arguments, make sure to either specify a random seed, or to pass `shuffle=False`, so that the validation and training splits have no overlap."
   ]
  },
  {
   "cell_type": "code",
   "execution_count": 106,
   "metadata": {
    "id": "nOrK-MTYaw3C",
    "tags": []
   },
   "outputs": [
    {
     "name": "stdout",
     "output_type": "stream",
     "text": [
      "Found 774 files belonging to 4 classes.\n",
      "Using 620 files for training.\n",
      "Found 774 files belonging to 4 classes.\n",
      "Using 154 files for validation.\n",
      "Found 794 files belonging to 4 classes.\n"
     ]
    }
   ],
   "source": [
    "batch_size = 20\n",
    "seed = 42\n",
    "\n",
    "train_dir = os.path.join(dataset_dir, 'train')\n",
    "val_dir = train_dir\n",
    "test_dir = os.path.join(dataset_dir, 'test')\n",
    "\n",
    "# creates training dataset\n",
    "raw_train_ds = tf.keras.utils.text_dataset_from_directory(\n",
    "    train_dir, \n",
    "    batch_size=batch_size, \n",
    "    validation_split=0.2, \n",
    "    subset='training', \n",
    "    seed=seed)\n",
    "\n",
    "# creates validation dataset\n",
    "raw_val_ds = tf.keras.utils.text_dataset_from_directory(\n",
    "    train_dir, \n",
    "    batch_size=batch_size, \n",
    "    validation_split=0.2, \n",
    "    subset='validation', \n",
    "    seed=seed)\n",
    "\n",
    "# creates test dataset\n",
    "raw_test_ds = tf.keras.utils.text_dataset_from_directory(\n",
    "    test_dir, \n",
    "    batch_size=batch_size)"
   ]
  },
  {
   "cell_type": "code",
   "execution_count": 107,
   "metadata": {
    "id": "51wNaPPApk1K",
    "tags": []
   },
   "outputs": [
    {
     "name": "stdout",
     "output_type": "stream",
     "text": [
      "Review b'What are the symptoms of a scratched cornea, and how is it treated?'\n",
      "Label 2\n",
      "Review b'How can I address persistent eye redness or bloodshot eyes?'\n",
      "Label 2\n",
      "Review b'Are there specific considerations for eye health during pregnancy?'\n",
      "Label 2\n"
     ]
    }
   ],
   "source": [
    "for text_batch, label_batch in raw_train_ds.take(1):\n",
    "  for i in range(3):\n",
    "    print(\"Review\", text_batch.numpy()[i])\n",
    "    print(\"Label\", label_batch.numpy()[i])"
   ]
  },
  {
   "cell_type": "code",
   "execution_count": 110,
   "metadata": {
    "id": "MlICTG8spyO2",
    "tags": []
   },
   "outputs": [
    {
     "name": "stdout",
     "output_type": "stream",
     "text": [
      "Label 0 corresponds to dermatology\n",
      "Label 1 corresponds to neurology\n",
      "Label 2 corresponds to optometry\n",
      "Label 3 corresponds to podiatry\n"
     ]
    }
   ],
   "source": [
    "print(\"Label 0 corresponds to\", raw_train_ds.class_names[0])\n",
    "print(\"Label 1 corresponds to\", raw_train_ds.class_names[1])\n",
    "print(\"Label 2 corresponds to\", raw_train_ds.class_names[2])\n",
    "print(\"Label 3 corresponds to\", raw_train_ds.class_names[3])"
   ]
  },
  {
   "cell_type": "markdown",
   "metadata": {
    "id": "qJmTiO0IYAjm",
    "tags": []
   },
   "source": [
    "### Prepare the dataset for training\n",
    "\n",
    "Standardizing, tokenizing, and vectorizing the data using `tf.keras.layers.TextVectorization`"
   ]
  },
  {
   "cell_type": "code",
   "execution_count": 111,
   "metadata": {
    "id": "SDRI_s_tX1Hk",
    "tags": []
   },
   "outputs": [],
   "source": [
    "# standardization for removing html tags\n",
    "def custom_standardization(input_data):\n",
    "  lowercase = tf.strings.lower(input_data)\n",
    "  stripped_html = tf.strings.regex_replace(lowercase, '<br />', ' ')\n",
    "  return tf.strings.regex_replace(stripped_html,\n",
    "                                  '[%s]' % re.escape(string.punctuation),\n",
    "                                  '')"
   ]
  },
  {
   "cell_type": "code",
   "execution_count": 112,
   "metadata": {
    "id": "-c76RvSzsMnX",
    "tags": []
   },
   "outputs": [],
   "source": [
    "max_features = 10000\n",
    "sequence_length = 250\n",
    "\n",
    "vectorize_layer = layers.TextVectorization(\n",
    "    standardize=custom_standardization,\n",
    "    max_tokens=max_features,\n",
    "    output_mode='int',\n",
    "    output_sequence_length=sequence_length)"
   ]
  },
  {
   "cell_type": "markdown",
   "metadata": {
    "id": "vlFOpfF6scT6"
   },
   "source": [
    "Calling `adapt` to fit the state of the preprocessing layer to the dataset to get model to build an index of strings to integers."
   ]
  },
  {
   "cell_type": "code",
   "execution_count": 113,
   "metadata": {
    "id": "GH4_2ZGJsa_X",
    "tags": []
   },
   "outputs": [],
   "source": [
    "# Make a text-only dataset (without labels), then call adapt\n",
    "train_text = raw_train_ds.map(lambda x, y: x)\n",
    "vectorize_layer.adapt(train_text)"
   ]
  },
  {
   "cell_type": "code",
   "execution_count": 114,
   "metadata": {
    "id": "SCIg_T50wOCU",
    "tags": []
   },
   "outputs": [],
   "source": [
    "def vectorize_text(text, label):\n",
    "  text = tf.expand_dims(text, -1)\n",
    "  return vectorize_layer(text), label"
   ]
  },
  {
   "cell_type": "code",
   "execution_count": 115,
   "metadata": {
    "id": "XULcm6B3xQIO",
    "tags": []
   },
   "outputs": [
    {
     "name": "stdout",
     "output_type": "stream",
     "text": [
      "Review tf.Tensor(b'How can I address discomfort in the ball of my foot?', shape=(), dtype=string)\n",
      "Label podiatry\n",
      "Vectorized review (<tf.Tensor: shape=(1, 250), dtype=int64, numpy=\n",
      "array([[ 6,  3,  9, 36, 88, 13,  2, 75,  4,  5, 16,  0,  0,  0,  0,  0,\n",
      "         0,  0,  0,  0,  0,  0,  0,  0,  0,  0,  0,  0,  0,  0,  0,  0,\n",
      "         0,  0,  0,  0,  0,  0,  0,  0,  0,  0,  0,  0,  0,  0,  0,  0,\n",
      "         0,  0,  0,  0,  0,  0,  0,  0,  0,  0,  0,  0,  0,  0,  0,  0,\n",
      "         0,  0,  0,  0,  0,  0,  0,  0,  0,  0,  0,  0,  0,  0,  0,  0,\n",
      "         0,  0,  0,  0,  0,  0,  0,  0,  0,  0,  0,  0,  0,  0,  0,  0,\n",
      "         0,  0,  0,  0,  0,  0,  0,  0,  0,  0,  0,  0,  0,  0,  0,  0,\n",
      "         0,  0,  0,  0,  0,  0,  0,  0,  0,  0,  0,  0,  0,  0,  0,  0,\n",
      "         0,  0,  0,  0,  0,  0,  0,  0,  0,  0,  0,  0,  0,  0,  0,  0,\n",
      "         0,  0,  0,  0,  0,  0,  0,  0,  0,  0,  0,  0,  0,  0,  0,  0,\n",
      "         0,  0,  0,  0,  0,  0,  0,  0,  0,  0,  0,  0,  0,  0,  0,  0,\n",
      "         0,  0,  0,  0,  0,  0,  0,  0,  0,  0,  0,  0,  0,  0,  0,  0,\n",
      "         0,  0,  0,  0,  0,  0,  0,  0,  0,  0,  0,  0,  0,  0,  0,  0,\n",
      "         0,  0,  0,  0,  0,  0,  0,  0,  0,  0,  0,  0,  0,  0,  0,  0,\n",
      "         0,  0,  0,  0,  0,  0,  0,  0,  0,  0,  0,  0,  0,  0,  0,  0,\n",
      "         0,  0,  0,  0,  0,  0,  0,  0,  0,  0]], dtype=int64)>, <tf.Tensor: shape=(), dtype=int32, numpy=3>)\n"
     ]
    }
   ],
   "source": [
    "# retrieve a batch (of 32 reviews and labels) from the dataset\n",
    "text_batch, label_batch = next(iter(raw_train_ds))\n",
    "first_review, first_label = text_batch[0], label_batch[0]\n",
    "print(\"Review\", first_review)\n",
    "print(\"Label\", raw_train_ds.class_names[first_label])\n",
    "print(\"Vectorized review\", vectorize_text(first_review, first_label))"
   ]
  },
  {
   "cell_type": "code",
   "execution_count": 116,
   "metadata": {
    "id": "kRq9hTQzhVhW",
    "tags": []
   },
   "outputs": [
    {
     "name": "stdout",
     "output_type": "stream",
     "text": [
      "Vocabulary size: 746\n",
      "52 --->  connection\n",
      "65 --->  prevent\n"
     ]
    }
   ],
   "source": [
    "print('Vocabulary size: {}'.format(len(vectorize_layer.get_vocabulary())))\n",
    "\n",
    "# for i in range(0,len(vectorize_layer.get_vocabulary())):\n",
    "#     print(i, \"--->\", vectorize_layer.get_vocabulary()[i])\n",
    "\n",
    "print(\"52 ---> \",vectorize_layer.get_vocabulary()[52])\n",
    "print(\"65 ---> \",vectorize_layer.get_vocabulary()[65])\n"
   ]
  },
  {
   "cell_type": "code",
   "execution_count": 117,
   "metadata": {
    "id": "2zhmpeViI1iG",
    "tags": []
   },
   "outputs": [],
   "source": [
    "train_ds = raw_train_ds.map(vectorize_text)\n",
    "val_ds = raw_val_ds.map(vectorize_text)\n",
    "test_ds = raw_test_ds.map(vectorize_text)"
   ]
  },
  {
   "cell_type": "markdown",
   "metadata": {
    "id": "YsVQyPMizjuO"
   },
   "source": [
    "### Configure the dataset for performance\n",
    "\n",
    "[data performance guide](https://www.tensorflow.org/guide/data_performance)."
   ]
  },
  {
   "cell_type": "code",
   "execution_count": 118,
   "metadata": {
    "id": "wMcs_H7izm5m",
    "tags": []
   },
   "outputs": [],
   "source": [
    "AUTOTUNE = tf.data.AUTOTUNE\n",
    "\n",
    "train_ds = train_ds.cache().prefetch(buffer_size=AUTOTUNE)\n",
    "val_ds = val_ds.cache().prefetch(buffer_size=AUTOTUNE)\n",
    "test_ds = test_ds.cache().prefetch(buffer_size=AUTOTUNE)"
   ]
  },
  {
   "cell_type": "markdown",
   "metadata": {
    "id": "LLC02j2g-llC"
   },
   "source": [
    "### Create the model"
   ]
  },
  {
   "cell_type": "code",
   "execution_count": 119,
   "metadata": {
    "id": "dkQP6in8yUBR",
    "tags": []
   },
   "outputs": [],
   "source": [
    "embedding_dim = 16"
   ]
  },
  {
   "cell_type": "code",
   "execution_count": 120,
   "metadata": {
    "id": "xpKOoWgu-llD",
    "tags": []
   },
   "outputs": [
    {
     "name": "stdout",
     "output_type": "stream",
     "text": [
      "Model: \"sequential_5\"\n",
      "_________________________________________________________________\n",
      " Layer (type)                Output Shape              Param #   \n",
      "=================================================================\n",
      " embedding_2 (Embedding)     (None, None, 16)          160016    \n",
      "                                                                 \n",
      " dropout_4 (Dropout)         (None, None, 16)          0         \n",
      "                                                                 \n",
      " global_average_pooling1d_2   (None, 16)               0         \n",
      " (GlobalAveragePooling1D)                                        \n",
      "                                                                 \n",
      " dropout_5 (Dropout)         (None, 16)                0         \n",
      "                                                                 \n",
      " dense_2 (Dense)             (None, 4)                 68        \n",
      "                                                                 \n",
      "=================================================================\n",
      "Total params: 160,084\n",
      "Trainable params: 160,084\n",
      "Non-trainable params: 0\n",
      "_________________________________________________________________\n"
     ]
    }
   ],
   "source": [
    "model = tf.keras.Sequential([\n",
    "  layers.Embedding(max_features + 1, embedding_dim),\n",
    "  layers.Dropout(0.2),\n",
    "  layers.GlobalAveragePooling1D(),\n",
    "  layers.Dropout(0.2),\n",
    "  layers.Dense(4)])\n",
    "\n",
    "model.summary()"
   ]
  },
  {
   "cell_type": "markdown",
   "metadata": {
    "id": "L4EqVWg4-llM"
   },
   "source": [
    "### Loss function and optimizer"
   ]
  },
  {
   "cell_type": "code",
   "execution_count": 121,
   "metadata": {
    "id": "Mr0GP-cQ-llN",
    "tags": []
   },
   "outputs": [],
   "source": [
    "model.compile(loss=tf.keras.losses.SparseCategoricalCrossentropy(from_logits=True),\n",
    "              optimizer='adam',\n",
    "              metrics=['accuracy'])\n",
    "\n"
   ]
  },
  {
   "cell_type": "markdown",
   "metadata": {
    "id": "35jv_fzP-llU"
   },
   "source": [
    "### Train the model"
   ]
  },
  {
   "cell_type": "code",
   "execution_count": 130,
   "metadata": {
    "id": "tXSGrjWZ-llW",
    "tags": []
   },
   "outputs": [
    {
     "name": "stdout",
     "output_type": "stream",
     "text": [
      "Epoch 1/200\n",
      "31/31 [==============================] - 0s 8ms/step - loss: 0.2142 - accuracy: 0.9839 - val_loss: 0.2735 - val_accuracy: 0.9481\n",
      "Epoch 2/200\n",
      "31/31 [==============================] - 0s 8ms/step - loss: 0.2108 - accuracy: 0.9887 - val_loss: 0.2708 - val_accuracy: 0.9481\n",
      "Epoch 3/200\n",
      "31/31 [==============================] - 0s 8ms/step - loss: 0.2175 - accuracy: 0.9903 - val_loss: 0.2686 - val_accuracy: 0.9481\n",
      "Epoch 4/200\n",
      "31/31 [==============================] - 0s 9ms/step - loss: 0.2172 - accuracy: 0.9855 - val_loss: 0.2655 - val_accuracy: 0.9481\n",
      "Epoch 5/200\n",
      "31/31 [==============================] - 0s 9ms/step - loss: 0.2060 - accuracy: 0.9855 - val_loss: 0.2639 - val_accuracy: 0.9481\n",
      "Epoch 6/200\n",
      "31/31 [==============================] - 0s 8ms/step - loss: 0.2061 - accuracy: 0.9855 - val_loss: 0.2607 - val_accuracy: 0.9481\n",
      "Epoch 7/200\n",
      "31/31 [==============================] - 0s 8ms/step - loss: 0.1994 - accuracy: 0.9887 - val_loss: 0.2584 - val_accuracy: 0.9481\n",
      "Epoch 8/200\n",
      "31/31 [==============================] - 0s 8ms/step - loss: 0.2029 - accuracy: 0.9855 - val_loss: 0.2562 - val_accuracy: 0.9481\n",
      "Epoch 9/200\n",
      "31/31 [==============================] - 0s 8ms/step - loss: 0.1960 - accuracy: 0.9855 - val_loss: 0.2538 - val_accuracy: 0.9481\n",
      "Epoch 10/200\n",
      "31/31 [==============================] - 0s 8ms/step - loss: 0.1919 - accuracy: 0.9903 - val_loss: 0.2521 - val_accuracy: 0.9481\n",
      "Epoch 11/200\n",
      "31/31 [==============================] - 0s 8ms/step - loss: 0.1933 - accuracy: 0.9887 - val_loss: 0.2495 - val_accuracy: 0.9481\n",
      "Epoch 12/200\n",
      "31/31 [==============================] - 0s 8ms/step - loss: 0.1893 - accuracy: 0.9903 - val_loss: 0.2474 - val_accuracy: 0.9481\n",
      "Epoch 13/200\n",
      "31/31 [==============================] - 0s 9ms/step - loss: 0.1823 - accuracy: 0.9903 - val_loss: 0.2454 - val_accuracy: 0.9481\n",
      "Epoch 14/200\n",
      "31/31 [==============================] - 0s 8ms/step - loss: 0.1834 - accuracy: 0.9903 - val_loss: 0.2436 - val_accuracy: 0.9481\n",
      "Epoch 15/200\n",
      "31/31 [==============================] - 0s 8ms/step - loss: 0.1830 - accuracy: 0.9903 - val_loss: 0.2408 - val_accuracy: 0.9481\n",
      "Epoch 16/200\n",
      "31/31 [==============================] - 0s 8ms/step - loss: 0.1730 - accuracy: 0.9903 - val_loss: 0.2387 - val_accuracy: 0.9481\n",
      "Epoch 17/200\n",
      "31/31 [==============================] - 0s 8ms/step - loss: 0.1777 - accuracy: 0.9919 - val_loss: 0.2366 - val_accuracy: 0.9481\n",
      "Epoch 18/200\n",
      "31/31 [==============================] - 0s 9ms/step - loss: 0.1728 - accuracy: 0.9919 - val_loss: 0.2345 - val_accuracy: 0.9481\n",
      "Epoch 19/200\n",
      "31/31 [==============================] - 0s 9ms/step - loss: 0.1730 - accuracy: 0.9903 - val_loss: 0.2333 - val_accuracy: 0.9481\n",
      "Epoch 20/200\n",
      "31/31 [==============================] - 0s 7ms/step - loss: 0.1741 - accuracy: 0.9887 - val_loss: 0.2306 - val_accuracy: 0.9481\n",
      "Epoch 21/200\n",
      "31/31 [==============================] - 0s 9ms/step - loss: 0.1718 - accuracy: 0.9903 - val_loss: 0.2297 - val_accuracy: 0.9481\n",
      "Epoch 22/200\n",
      "31/31 [==============================] - 0s 9ms/step - loss: 0.1671 - accuracy: 0.9919 - val_loss: 0.2272 - val_accuracy: 0.9481\n",
      "Epoch 23/200\n",
      "31/31 [==============================] - 0s 8ms/step - loss: 0.1637 - accuracy: 0.9935 - val_loss: 0.2252 - val_accuracy: 0.9481\n",
      "Epoch 24/200\n",
      "31/31 [==============================] - 0s 8ms/step - loss: 0.1575 - accuracy: 0.9903 - val_loss: 0.2234 - val_accuracy: 0.9481\n",
      "Epoch 25/200\n",
      "31/31 [==============================] - 0s 8ms/step - loss: 0.1573 - accuracy: 0.9919 - val_loss: 0.2210 - val_accuracy: 0.9481\n",
      "Epoch 26/200\n",
      "31/31 [==============================] - 0s 8ms/step - loss: 0.1613 - accuracy: 0.9935 - val_loss: 0.2201 - val_accuracy: 0.9481\n",
      "Epoch 27/200\n",
      "31/31 [==============================] - 0s 8ms/step - loss: 0.1542 - accuracy: 0.9903 - val_loss: 0.2178 - val_accuracy: 0.9481\n",
      "Epoch 28/200\n",
      "31/31 [==============================] - 0s 8ms/step - loss: 0.1558 - accuracy: 0.9903 - val_loss: 0.2165 - val_accuracy: 0.9481\n",
      "Epoch 29/200\n",
      "31/31 [==============================] - 0s 7ms/step - loss: 0.1473 - accuracy: 0.9935 - val_loss: 0.2148 - val_accuracy: 0.9481\n",
      "Epoch 30/200\n",
      "31/31 [==============================] - 0s 7ms/step - loss: 0.1474 - accuracy: 0.9935 - val_loss: 0.2127 - val_accuracy: 0.9481\n",
      "Epoch 31/200\n",
      "31/31 [==============================] - 0s 8ms/step - loss: 0.1514 - accuracy: 0.9952 - val_loss: 0.2112 - val_accuracy: 0.9481\n",
      "Epoch 32/200\n",
      "31/31 [==============================] - 0s 8ms/step - loss: 0.1435 - accuracy: 0.9903 - val_loss: 0.2102 - val_accuracy: 0.9481\n",
      "Epoch 33/200\n",
      "31/31 [==============================] - 0s 7ms/step - loss: 0.1424 - accuracy: 0.9952 - val_loss: 0.2086 - val_accuracy: 0.9416\n",
      "Epoch 34/200\n",
      "31/31 [==============================] - 0s 8ms/step - loss: 0.1409 - accuracy: 0.9919 - val_loss: 0.2062 - val_accuracy: 0.9416\n",
      "Epoch 35/200\n",
      "31/31 [==============================] - 0s 8ms/step - loss: 0.1424 - accuracy: 0.9919 - val_loss: 0.2053 - val_accuracy: 0.9481\n",
      "Epoch 36/200\n",
      "31/31 [==============================] - 0s 8ms/step - loss: 0.1401 - accuracy: 0.9887 - val_loss: 0.2038 - val_accuracy: 0.9416\n",
      "Epoch 37/200\n",
      "31/31 [==============================] - 0s 8ms/step - loss: 0.1370 - accuracy: 0.9935 - val_loss: 0.2014 - val_accuracy: 0.9481\n",
      "Epoch 38/200\n",
      "31/31 [==============================] - 0s 7ms/step - loss: 0.1381 - accuracy: 0.9935 - val_loss: 0.2011 - val_accuracy: 0.9416\n",
      "Epoch 39/200\n",
      "31/31 [==============================] - 0s 8ms/step - loss: 0.1309 - accuracy: 0.9968 - val_loss: 0.1992 - val_accuracy: 0.9416\n",
      "Epoch 40/200\n",
      "31/31 [==============================] - 0s 7ms/step - loss: 0.1325 - accuracy: 0.9919 - val_loss: 0.1969 - val_accuracy: 0.9416\n",
      "Epoch 41/200\n",
      "31/31 [==============================] - 0s 7ms/step - loss: 0.1288 - accuracy: 0.9968 - val_loss: 0.1952 - val_accuracy: 0.9416\n",
      "Epoch 42/200\n",
      "31/31 [==============================] - 0s 7ms/step - loss: 0.1284 - accuracy: 0.9935 - val_loss: 0.1947 - val_accuracy: 0.9416\n",
      "Epoch 43/200\n",
      "31/31 [==============================] - 0s 7ms/step - loss: 0.1316 - accuracy: 0.9935 - val_loss: 0.1925 - val_accuracy: 0.9481\n",
      "Epoch 44/200\n",
      "31/31 [==============================] - 0s 7ms/step - loss: 0.1233 - accuracy: 0.9935 - val_loss: 0.1909 - val_accuracy: 0.9416\n",
      "Epoch 45/200\n",
      "31/31 [==============================] - 0s 8ms/step - loss: 0.1201 - accuracy: 0.9968 - val_loss: 0.1905 - val_accuracy: 0.9416\n",
      "Epoch 46/200\n",
      "31/31 [==============================] - 0s 8ms/step - loss: 0.1242 - accuracy: 0.9919 - val_loss: 0.1884 - val_accuracy: 0.9481\n",
      "Epoch 47/200\n",
      "31/31 [==============================] - 0s 8ms/step - loss: 0.1194 - accuracy: 0.9952 - val_loss: 0.1874 - val_accuracy: 0.9416\n",
      "Epoch 48/200\n",
      "31/31 [==============================] - 0s 7ms/step - loss: 0.1203 - accuracy: 0.9919 - val_loss: 0.1861 - val_accuracy: 0.9416\n",
      "Epoch 49/200\n",
      "31/31 [==============================] - 0s 7ms/step - loss: 0.1146 - accuracy: 0.9935 - val_loss: 0.1844 - val_accuracy: 0.9416\n",
      "Epoch 50/200\n",
      "31/31 [==============================] - 0s 8ms/step - loss: 0.1187 - accuracy: 0.9919 - val_loss: 0.1832 - val_accuracy: 0.9416\n",
      "Epoch 51/200\n",
      "31/31 [==============================] - 0s 8ms/step - loss: 0.1167 - accuracy: 0.9919 - val_loss: 0.1829 - val_accuracy: 0.9416\n",
      "Epoch 52/200\n",
      "31/31 [==============================] - 0s 8ms/step - loss: 0.1172 - accuracy: 0.9952 - val_loss: 0.1813 - val_accuracy: 0.9416\n",
      "Epoch 53/200\n",
      "31/31 [==============================] - 0s 8ms/step - loss: 0.1142 - accuracy: 0.9919 - val_loss: 0.1800 - val_accuracy: 0.9416\n",
      "Epoch 54/200\n",
      "31/31 [==============================] - 0s 7ms/step - loss: 0.1138 - accuracy: 0.9919 - val_loss: 0.1790 - val_accuracy: 0.9416\n",
      "Epoch 55/200\n",
      "31/31 [==============================] - 0s 5ms/step - loss: 0.1135 - accuracy: 0.9968 - val_loss: 0.1775 - val_accuracy: 0.9416\n",
      "Epoch 56/200\n",
      "31/31 [==============================] - 0s 9ms/step - loss: 0.1046 - accuracy: 0.9968 - val_loss: 0.1767 - val_accuracy: 0.9416\n",
      "Epoch 57/200\n",
      "31/31 [==============================] - 0s 9ms/step - loss: 0.1052 - accuracy: 0.9952 - val_loss: 0.1754 - val_accuracy: 0.9416\n",
      "Epoch 58/200\n",
      "31/31 [==============================] - 0s 7ms/step - loss: 0.1058 - accuracy: 0.9952 - val_loss: 0.1743 - val_accuracy: 0.9545\n",
      "Epoch 59/200\n",
      "31/31 [==============================] - 0s 6ms/step - loss: 0.1031 - accuracy: 0.9952 - val_loss: 0.1730 - val_accuracy: 0.9416\n",
      "Epoch 60/200\n",
      "31/31 [==============================] - 0s 9ms/step - loss: 0.0995 - accuracy: 0.9952 - val_loss: 0.1729 - val_accuracy: 0.9416\n",
      "Epoch 61/200\n",
      "31/31 [==============================] - 0s 8ms/step - loss: 0.1009 - accuracy: 0.9952 - val_loss: 0.1701 - val_accuracy: 0.9416\n",
      "Epoch 62/200\n",
      "31/31 [==============================] - 0s 8ms/step - loss: 0.1036 - accuracy: 0.9952 - val_loss: 0.1699 - val_accuracy: 0.9416\n",
      "Epoch 63/200\n",
      "31/31 [==============================] - 0s 9ms/step - loss: 0.1010 - accuracy: 0.9984 - val_loss: 0.1676 - val_accuracy: 0.9545\n",
      "Epoch 64/200\n",
      "31/31 [==============================] - 0s 9ms/step - loss: 0.1008 - accuracy: 0.9952 - val_loss: 0.1676 - val_accuracy: 0.9416\n",
      "Epoch 65/200\n",
      "31/31 [==============================] - 0s 8ms/step - loss: 0.0942 - accuracy: 0.9935 - val_loss: 0.1664 - val_accuracy: 0.9416\n",
      "Epoch 66/200\n",
      "31/31 [==============================] - 0s 8ms/step - loss: 0.0999 - accuracy: 0.9952 - val_loss: 0.1662 - val_accuracy: 0.9416\n",
      "Epoch 67/200\n",
      "31/31 [==============================] - 0s 8ms/step - loss: 0.0953 - accuracy: 1.0000 - val_loss: 0.1639 - val_accuracy: 0.9481\n",
      "Epoch 68/200\n",
      "31/31 [==============================] - 0s 8ms/step - loss: 0.0930 - accuracy: 0.9984 - val_loss: 0.1631 - val_accuracy: 0.9545\n",
      "Epoch 69/200\n",
      "31/31 [==============================] - 0s 7ms/step - loss: 0.0910 - accuracy: 0.9919 - val_loss: 0.1629 - val_accuracy: 0.9545\n",
      "Epoch 70/200\n",
      "31/31 [==============================] - 0s 8ms/step - loss: 0.0927 - accuracy: 0.9952 - val_loss: 0.1616 - val_accuracy: 0.9545\n",
      "Epoch 71/200\n",
      "31/31 [==============================] - 0s 9ms/step - loss: 0.0944 - accuracy: 0.9968 - val_loss: 0.1602 - val_accuracy: 0.9545\n",
      "Epoch 72/200\n",
      "31/31 [==============================] - 0s 7ms/step - loss: 0.0884 - accuracy: 0.9952 - val_loss: 0.1592 - val_accuracy: 0.9545\n",
      "Epoch 73/200\n",
      "31/31 [==============================] - 0s 8ms/step - loss: 0.0887 - accuracy: 0.9984 - val_loss: 0.1592 - val_accuracy: 0.9416\n",
      "Epoch 74/200\n",
      "31/31 [==============================] - 0s 8ms/step - loss: 0.0922 - accuracy: 0.9935 - val_loss: 0.1573 - val_accuracy: 0.9481\n",
      "Epoch 75/200\n",
      "31/31 [==============================] - 0s 8ms/step - loss: 0.0851 - accuracy: 0.9984 - val_loss: 0.1561 - val_accuracy: 0.9545\n",
      "Epoch 76/200\n",
      "31/31 [==============================] - 0s 7ms/step - loss: 0.0852 - accuracy: 0.9984 - val_loss: 0.1553 - val_accuracy: 0.9545\n",
      "Epoch 77/200\n",
      "31/31 [==============================] - 0s 8ms/step - loss: 0.0847 - accuracy: 0.9968 - val_loss: 0.1555 - val_accuracy: 0.9545\n",
      "Epoch 78/200\n",
      "31/31 [==============================] - 0s 8ms/step - loss: 0.0902 - accuracy: 0.9952 - val_loss: 0.1545 - val_accuracy: 0.9545\n",
      "Epoch 79/200\n",
      "31/31 [==============================] - 0s 8ms/step - loss: 0.0813 - accuracy: 0.9968 - val_loss: 0.1515 - val_accuracy: 0.9545\n",
      "Epoch 80/200\n",
      "31/31 [==============================] - 0s 9ms/step - loss: 0.0856 - accuracy: 0.9984 - val_loss: 0.1511 - val_accuracy: 0.9545\n",
      "Epoch 81/200\n",
      "31/31 [==============================] - 0s 8ms/step - loss: 0.0809 - accuracy: 0.9935 - val_loss: 0.1516 - val_accuracy: 0.9545\n",
      "Epoch 82/200\n",
      "31/31 [==============================] - 0s 8ms/step - loss: 0.0828 - accuracy: 0.9952 - val_loss: 0.1506 - val_accuracy: 0.9545\n",
      "Epoch 83/200\n",
      "31/31 [==============================] - 0s 7ms/step - loss: 0.0788 - accuracy: 0.9952 - val_loss: 0.1492 - val_accuracy: 0.9545\n",
      "Epoch 84/200\n",
      "31/31 [==============================] - 0s 9ms/step - loss: 0.0790 - accuracy: 0.9968 - val_loss: 0.1488 - val_accuracy: 0.9545\n",
      "Epoch 85/200\n",
      "31/31 [==============================] - 0s 8ms/step - loss: 0.0798 - accuracy: 0.9952 - val_loss: 0.1474 - val_accuracy: 0.9610\n",
      "Epoch 86/200\n",
      "31/31 [==============================] - 0s 8ms/step - loss: 0.0790 - accuracy: 0.9968 - val_loss: 0.1462 - val_accuracy: 0.9545\n",
      "Epoch 87/200\n",
      "31/31 [==============================] - 0s 9ms/step - loss: 0.0755 - accuracy: 0.9935 - val_loss: 0.1457 - val_accuracy: 0.9545\n",
      "Epoch 88/200\n",
      "31/31 [==============================] - 0s 7ms/step - loss: 0.0767 - accuracy: 0.9935 - val_loss: 0.1457 - val_accuracy: 0.9545\n",
      "Epoch 89/200\n",
      "31/31 [==============================] - 0s 8ms/step - loss: 0.0768 - accuracy: 0.9952 - val_loss: 0.1442 - val_accuracy: 0.9610\n",
      "Epoch 90/200\n",
      "31/31 [==============================] - 0s 9ms/step - loss: 0.0792 - accuracy: 0.9919 - val_loss: 0.1445 - val_accuracy: 0.9610\n",
      "Epoch 91/200\n",
      "31/31 [==============================] - 0s 8ms/step - loss: 0.0690 - accuracy: 0.9984 - val_loss: 0.1432 - val_accuracy: 0.9610\n",
      "Epoch 92/200\n",
      "31/31 [==============================] - 0s 8ms/step - loss: 0.0675 - accuracy: 0.9984 - val_loss: 0.1422 - val_accuracy: 0.9545\n",
      "Epoch 93/200\n",
      "31/31 [==============================] - 0s 8ms/step - loss: 0.0689 - accuracy: 0.9968 - val_loss: 0.1411 - val_accuracy: 0.9610\n",
      "Epoch 94/200\n",
      "31/31 [==============================] - 0s 9ms/step - loss: 0.0704 - accuracy: 0.9984 - val_loss: 0.1404 - val_accuracy: 0.9610\n",
      "Epoch 95/200\n",
      "31/31 [==============================] - 0s 8ms/step - loss: 0.0741 - accuracy: 0.9968 - val_loss: 0.1404 - val_accuracy: 0.9545\n",
      "Epoch 96/200\n",
      "31/31 [==============================] - 0s 8ms/step - loss: 0.0692 - accuracy: 0.9952 - val_loss: 0.1400 - val_accuracy: 0.9545\n",
      "Epoch 97/200\n",
      "31/31 [==============================] - 0s 8ms/step - loss: 0.0677 - accuracy: 0.9968 - val_loss: 0.1388 - val_accuracy: 0.9545\n",
      "Epoch 98/200\n",
      "31/31 [==============================] - 0s 8ms/step - loss: 0.0695 - accuracy: 0.9984 - val_loss: 0.1384 - val_accuracy: 0.9610\n",
      "Epoch 99/200\n",
      "31/31 [==============================] - 0s 9ms/step - loss: 0.0643 - accuracy: 0.9984 - val_loss: 0.1377 - val_accuracy: 0.9545\n",
      "Epoch 100/200\n",
      "31/31 [==============================] - 0s 8ms/step - loss: 0.0650 - accuracy: 0.9968 - val_loss: 0.1361 - val_accuracy: 0.9610\n",
      "Epoch 101/200\n",
      "31/31 [==============================] - 0s 9ms/step - loss: 0.0642 - accuracy: 0.9968 - val_loss: 0.1373 - val_accuracy: 0.9545\n",
      "Epoch 102/200\n",
      "31/31 [==============================] - 0s 8ms/step - loss: 0.0681 - accuracy: 0.9968 - val_loss: 0.1351 - val_accuracy: 0.9610\n",
      "Epoch 103/200\n",
      "31/31 [==============================] - 0s 9ms/step - loss: 0.0609 - accuracy: 0.9984 - val_loss: 0.1341 - val_accuracy: 0.9610\n",
      "Epoch 104/200\n",
      "31/31 [==============================] - 0s 8ms/step - loss: 0.0633 - accuracy: 0.9984 - val_loss: 0.1341 - val_accuracy: 0.9610\n",
      "Epoch 105/200\n",
      "31/31 [==============================] - 0s 8ms/step - loss: 0.0597 - accuracy: 0.9984 - val_loss: 0.1324 - val_accuracy: 0.9675\n",
      "Epoch 106/200\n",
      "31/31 [==============================] - 0s 7ms/step - loss: 0.0621 - accuracy: 0.9984 - val_loss: 0.1324 - val_accuracy: 0.9610\n",
      "Epoch 107/200\n",
      "31/31 [==============================] - 0s 8ms/step - loss: 0.0602 - accuracy: 0.9984 - val_loss: 0.1311 - val_accuracy: 0.9675\n",
      "Epoch 108/200\n",
      "31/31 [==============================] - 0s 8ms/step - loss: 0.0609 - accuracy: 0.9968 - val_loss: 0.1320 - val_accuracy: 0.9545\n",
      "Epoch 109/200\n",
      "31/31 [==============================] - 0s 8ms/step - loss: 0.0607 - accuracy: 0.9984 - val_loss: 0.1303 - val_accuracy: 0.9545\n",
      "Epoch 110/200\n",
      "31/31 [==============================] - 0s 7ms/step - loss: 0.0610 - accuracy: 0.9952 - val_loss: 0.1288 - val_accuracy: 0.9610\n",
      "Epoch 111/200\n",
      "31/31 [==============================] - 0s 9ms/step - loss: 0.0574 - accuracy: 0.9968 - val_loss: 0.1293 - val_accuracy: 0.9610\n",
      "Epoch 112/200\n",
      "31/31 [==============================] - 0s 7ms/step - loss: 0.0536 - accuracy: 1.0000 - val_loss: 0.1283 - val_accuracy: 0.9610\n",
      "Epoch 113/200\n",
      "31/31 [==============================] - 0s 8ms/step - loss: 0.0544 - accuracy: 0.9952 - val_loss: 0.1283 - val_accuracy: 0.9610\n",
      "Epoch 114/200\n",
      "31/31 [==============================] - 0s 8ms/step - loss: 0.0533 - accuracy: 0.9984 - val_loss: 0.1287 - val_accuracy: 0.9610\n",
      "Epoch 115/200\n",
      "31/31 [==============================] - 0s 9ms/step - loss: 0.0559 - accuracy: 0.9968 - val_loss: 0.1262 - val_accuracy: 0.9675\n",
      "Epoch 116/200\n",
      "31/31 [==============================] - 0s 8ms/step - loss: 0.0564 - accuracy: 0.9968 - val_loss: 0.1271 - val_accuracy: 0.9610\n",
      "Epoch 117/200\n",
      "31/31 [==============================] - 0s 9ms/step - loss: 0.0541 - accuracy: 0.9984 - val_loss: 0.1250 - val_accuracy: 0.9610\n",
      "Epoch 118/200\n",
      "31/31 [==============================] - 0s 9ms/step - loss: 0.0505 - accuracy: 0.9984 - val_loss: 0.1253 - val_accuracy: 0.9610\n",
      "Epoch 119/200\n",
      "31/31 [==============================] - 0s 8ms/step - loss: 0.0522 - accuracy: 0.9984 - val_loss: 0.1238 - val_accuracy: 0.9675\n",
      "Epoch 120/200\n",
      "31/31 [==============================] - 0s 8ms/step - loss: 0.0521 - accuracy: 1.0000 - val_loss: 0.1227 - val_accuracy: 0.9675\n",
      "Epoch 121/200\n",
      "31/31 [==============================] - 0s 8ms/step - loss: 0.0527 - accuracy: 0.9968 - val_loss: 0.1221 - val_accuracy: 0.9675\n",
      "Epoch 122/200\n",
      "31/31 [==============================] - 0s 8ms/step - loss: 0.0566 - accuracy: 0.9968 - val_loss: 0.1227 - val_accuracy: 0.9675\n",
      "Epoch 123/200\n",
      "31/31 [==============================] - 0s 8ms/step - loss: 0.0515 - accuracy: 0.9968 - val_loss: 0.1220 - val_accuracy: 0.9610\n",
      "Epoch 124/200\n",
      "31/31 [==============================] - 0s 7ms/step - loss: 0.0478 - accuracy: 1.0000 - val_loss: 0.1209 - val_accuracy: 0.9675\n",
      "Epoch 125/200\n",
      "31/31 [==============================] - 0s 9ms/step - loss: 0.0503 - accuracy: 0.9984 - val_loss: 0.1205 - val_accuracy: 0.9675\n",
      "Epoch 126/200\n",
      "31/31 [==============================] - 0s 8ms/step - loss: 0.0473 - accuracy: 0.9984 - val_loss: 0.1213 - val_accuracy: 0.9610\n",
      "Epoch 127/200\n",
      "31/31 [==============================] - 0s 8ms/step - loss: 0.0509 - accuracy: 0.9984 - val_loss: 0.1208 - val_accuracy: 0.9610\n",
      "Epoch 128/200\n",
      "31/31 [==============================] - 0s 8ms/step - loss: 0.0499 - accuracy: 0.9984 - val_loss: 0.1201 - val_accuracy: 0.9610\n",
      "Epoch 129/200\n",
      "31/31 [==============================] - 0s 9ms/step - loss: 0.0482 - accuracy: 0.9984 - val_loss: 0.1177 - val_accuracy: 0.9675\n",
      "Epoch 130/200\n",
      "31/31 [==============================] - 0s 8ms/step - loss: 0.0456 - accuracy: 0.9968 - val_loss: 0.1178 - val_accuracy: 0.9675\n",
      "Epoch 131/200\n",
      "31/31 [==============================] - 0s 8ms/step - loss: 0.0467 - accuracy: 1.0000 - val_loss: 0.1187 - val_accuracy: 0.9675\n",
      "Epoch 132/200\n",
      "31/31 [==============================] - 0s 8ms/step - loss: 0.0463 - accuracy: 0.9984 - val_loss: 0.1183 - val_accuracy: 0.9675\n",
      "Epoch 133/200\n",
      "31/31 [==============================] - 0s 8ms/step - loss: 0.0407 - accuracy: 0.9984 - val_loss: 0.1164 - val_accuracy: 0.9675\n",
      "Epoch 134/200\n",
      "31/31 [==============================] - 0s 8ms/step - loss: 0.0426 - accuracy: 0.9984 - val_loss: 0.1167 - val_accuracy: 0.9675\n",
      "Epoch 135/200\n",
      "31/31 [==============================] - 0s 9ms/step - loss: 0.0434 - accuracy: 1.0000 - val_loss: 0.1173 - val_accuracy: 0.9675\n",
      "Epoch 136/200\n",
      "31/31 [==============================] - 0s 8ms/step - loss: 0.0403 - accuracy: 0.9968 - val_loss: 0.1156 - val_accuracy: 0.9610\n",
      "Epoch 137/200\n",
      "31/31 [==============================] - 0s 8ms/step - loss: 0.0447 - accuracy: 0.9984 - val_loss: 0.1148 - val_accuracy: 0.9675\n",
      "Epoch 138/200\n",
      "31/31 [==============================] - 0s 8ms/step - loss: 0.0421 - accuracy: 1.0000 - val_loss: 0.1156 - val_accuracy: 0.9610\n",
      "Epoch 139/200\n",
      "31/31 [==============================] - 0s 8ms/step - loss: 0.0406 - accuracy: 0.9984 - val_loss: 0.1145 - val_accuracy: 0.9675\n",
      "Epoch 140/200\n",
      "31/31 [==============================] - 0s 9ms/step - loss: 0.0449 - accuracy: 1.0000 - val_loss: 0.1143 - val_accuracy: 0.9675\n",
      "Epoch 141/200\n",
      "31/31 [==============================] - 0s 9ms/step - loss: 0.0410 - accuracy: 1.0000 - val_loss: 0.1147 - val_accuracy: 0.9610\n",
      "Epoch 142/200\n",
      "31/31 [==============================] - 0s 8ms/step - loss: 0.0407 - accuracy: 0.9984 - val_loss: 0.1142 - val_accuracy: 0.9610\n",
      "Epoch 143/200\n",
      "31/31 [==============================] - 0s 8ms/step - loss: 0.0398 - accuracy: 0.9984 - val_loss: 0.1130 - val_accuracy: 0.9675\n",
      "Epoch 144/200\n",
      "31/31 [==============================] - 0s 9ms/step - loss: 0.0409 - accuracy: 0.9984 - val_loss: 0.1124 - val_accuracy: 0.9675\n",
      "Epoch 145/200\n",
      "31/31 [==============================] - 0s 9ms/step - loss: 0.0414 - accuracy: 0.9984 - val_loss: 0.1128 - val_accuracy: 0.9610\n",
      "Epoch 146/200\n",
      "31/31 [==============================] - 0s 9ms/step - loss: 0.0411 - accuracy: 0.9984 - val_loss: 0.1125 - val_accuracy: 0.9675\n",
      "Epoch 147/200\n",
      "31/31 [==============================] - 0s 8ms/step - loss: 0.0350 - accuracy: 1.0000 - val_loss: 0.1120 - val_accuracy: 0.9610\n",
      "Epoch 148/200\n",
      "31/31 [==============================] - 0s 9ms/step - loss: 0.0396 - accuracy: 1.0000 - val_loss: 0.1106 - val_accuracy: 0.9675\n",
      "Epoch 149/200\n",
      "31/31 [==============================] - 0s 9ms/step - loss: 0.0383 - accuracy: 0.9968 - val_loss: 0.1095 - val_accuracy: 0.9675\n",
      "Epoch 150/200\n",
      "31/31 [==============================] - 0s 8ms/step - loss: 0.0397 - accuracy: 0.9984 - val_loss: 0.1099 - val_accuracy: 0.9675\n",
      "Epoch 151/200\n",
      "31/31 [==============================] - 0s 9ms/step - loss: 0.0375 - accuracy: 0.9984 - val_loss: 0.1107 - val_accuracy: 0.9610\n",
      "Epoch 152/200\n",
      "31/31 [==============================] - 0s 8ms/step - loss: 0.0357 - accuracy: 1.0000 - val_loss: 0.1089 - val_accuracy: 0.9675\n",
      "Epoch 153/200\n",
      "31/31 [==============================] - 0s 9ms/step - loss: 0.0351 - accuracy: 1.0000 - val_loss: 0.1091 - val_accuracy: 0.9675\n",
      "Epoch 154/200\n",
      "31/31 [==============================] - 0s 8ms/step - loss: 0.0372 - accuracy: 0.9984 - val_loss: 0.1097 - val_accuracy: 0.9610\n",
      "Epoch 155/200\n",
      "31/31 [==============================] - 0s 9ms/step - loss: 0.0393 - accuracy: 1.0000 - val_loss: 0.1079 - val_accuracy: 0.9675\n",
      "Epoch 156/200\n",
      "31/31 [==============================] - 0s 8ms/step - loss: 0.0380 - accuracy: 0.9968 - val_loss: 0.1084 - val_accuracy: 0.9610\n",
      "Epoch 157/200\n",
      "31/31 [==============================] - 0s 8ms/step - loss: 0.0333 - accuracy: 0.9984 - val_loss: 0.1073 - val_accuracy: 0.9675\n",
      "Epoch 158/200\n",
      "31/31 [==============================] - 0s 8ms/step - loss: 0.0347 - accuracy: 1.0000 - val_loss: 0.1056 - val_accuracy: 0.9675\n",
      "Epoch 159/200\n",
      "31/31 [==============================] - 0s 9ms/step - loss: 0.0342 - accuracy: 1.0000 - val_loss: 0.1070 - val_accuracy: 0.9675\n",
      "Epoch 160/200\n",
      "31/31 [==============================] - 0s 9ms/step - loss: 0.0353 - accuracy: 1.0000 - val_loss: 0.1069 - val_accuracy: 0.9675\n",
      "Epoch 161/200\n",
      "31/31 [==============================] - 0s 8ms/step - loss: 0.0368 - accuracy: 0.9968 - val_loss: 0.1065 - val_accuracy: 0.9610\n",
      "Epoch 162/200\n",
      "31/31 [==============================] - 0s 9ms/step - loss: 0.0323 - accuracy: 0.9984 - val_loss: 0.1055 - val_accuracy: 0.9675\n",
      "Epoch 163/200\n",
      "31/31 [==============================] - 0s 7ms/step - loss: 0.0333 - accuracy: 1.0000 - val_loss: 0.1050 - val_accuracy: 0.9675\n",
      "Epoch 164/200\n",
      "31/31 [==============================] - 0s 7ms/step - loss: 0.0297 - accuracy: 1.0000 - val_loss: 0.1051 - val_accuracy: 0.9675\n",
      "Epoch 165/200\n",
      "31/31 [==============================] - 0s 6ms/step - loss: 0.0346 - accuracy: 1.0000 - val_loss: 0.1037 - val_accuracy: 0.9675\n",
      "Epoch 166/200\n",
      "31/31 [==============================] - 0s 9ms/step - loss: 0.0303 - accuracy: 1.0000 - val_loss: 0.1047 - val_accuracy: 0.9675\n",
      "Epoch 167/200\n",
      "31/31 [==============================] - 0s 9ms/step - loss: 0.0311 - accuracy: 1.0000 - val_loss: 0.1037 - val_accuracy: 0.9675\n",
      "Epoch 168/200\n",
      "31/31 [==============================] - 0s 7ms/step - loss: 0.0307 - accuracy: 1.0000 - val_loss: 0.1030 - val_accuracy: 0.9675\n",
      "Epoch 169/200\n",
      "31/31 [==============================] - 0s 8ms/step - loss: 0.0316 - accuracy: 0.9984 - val_loss: 0.1028 - val_accuracy: 0.9675\n",
      "Epoch 170/200\n",
      "31/31 [==============================] - 0s 8ms/step - loss: 0.0315 - accuracy: 0.9984 - val_loss: 0.1016 - val_accuracy: 0.9675\n",
      "Epoch 171/200\n",
      "31/31 [==============================] - 0s 8ms/step - loss: 0.0317 - accuracy: 0.9984 - val_loss: 0.1035 - val_accuracy: 0.9675\n",
      "Epoch 172/200\n",
      "31/31 [==============================] - 0s 7ms/step - loss: 0.0305 - accuracy: 1.0000 - val_loss: 0.1034 - val_accuracy: 0.9675\n",
      "Epoch 173/200\n",
      "31/31 [==============================] - 0s 9ms/step - loss: 0.0313 - accuracy: 1.0000 - val_loss: 0.1025 - val_accuracy: 0.9675\n",
      "Epoch 174/200\n",
      "31/31 [==============================] - 0s 8ms/step - loss: 0.0299 - accuracy: 0.9984 - val_loss: 0.1024 - val_accuracy: 0.9675\n",
      "Epoch 175/200\n",
      "31/31 [==============================] - 0s 8ms/step - loss: 0.0298 - accuracy: 0.9984 - val_loss: 0.1001 - val_accuracy: 0.9675\n",
      "Epoch 176/200\n",
      "31/31 [==============================] - 0s 8ms/step - loss: 0.0264 - accuracy: 1.0000 - val_loss: 0.1008 - val_accuracy: 0.9675\n",
      "Epoch 177/200\n",
      "31/31 [==============================] - 0s 8ms/step - loss: 0.0290 - accuracy: 1.0000 - val_loss: 0.1004 - val_accuracy: 0.9675\n",
      "Epoch 178/200\n",
      "31/31 [==============================] - 0s 7ms/step - loss: 0.0284 - accuracy: 0.9968 - val_loss: 0.1019 - val_accuracy: 0.9675\n",
      "Epoch 179/200\n",
      "31/31 [==============================] - 0s 7ms/step - loss: 0.0260 - accuracy: 1.0000 - val_loss: 0.1005 - val_accuracy: 0.9675\n",
      "Epoch 180/200\n",
      "31/31 [==============================] - 0s 8ms/step - loss: 0.0266 - accuracy: 0.9984 - val_loss: 0.1016 - val_accuracy: 0.9675\n",
      "Epoch 181/200\n",
      "31/31 [==============================] - 0s 8ms/step - loss: 0.0258 - accuracy: 1.0000 - val_loss: 0.0999 - val_accuracy: 0.9675\n",
      "Epoch 182/200\n",
      "31/31 [==============================] - 0s 8ms/step - loss: 0.0280 - accuracy: 1.0000 - val_loss: 0.1024 - val_accuracy: 0.9610\n",
      "Epoch 183/200\n",
      "31/31 [==============================] - 0s 6ms/step - loss: 0.0295 - accuracy: 0.9984 - val_loss: 0.0999 - val_accuracy: 0.9675\n",
      "Epoch 184/200\n",
      "31/31 [==============================] - 0s 7ms/step - loss: 0.0260 - accuracy: 1.0000 - val_loss: 0.0992 - val_accuracy: 0.9675\n",
      "Epoch 185/200\n",
      "31/31 [==============================] - 0s 8ms/step - loss: 0.0276 - accuracy: 0.9984 - val_loss: 0.0989 - val_accuracy: 0.9610\n",
      "Epoch 186/200\n",
      "31/31 [==============================] - 0s 7ms/step - loss: 0.0251 - accuracy: 1.0000 - val_loss: 0.1000 - val_accuracy: 0.9610\n",
      "Epoch 187/200\n",
      "31/31 [==============================] - 0s 7ms/step - loss: 0.0241 - accuracy: 1.0000 - val_loss: 0.0980 - val_accuracy: 0.9675\n",
      "Epoch 188/200\n",
      "31/31 [==============================] - 0s 8ms/step - loss: 0.0255 - accuracy: 1.0000 - val_loss: 0.0974 - val_accuracy: 0.9675\n",
      "Epoch 189/200\n",
      "31/31 [==============================] - 0s 8ms/step - loss: 0.0260 - accuracy: 1.0000 - val_loss: 0.0981 - val_accuracy: 0.9675\n",
      "Epoch 190/200\n",
      "31/31 [==============================] - 0s 8ms/step - loss: 0.0275 - accuracy: 0.9984 - val_loss: 0.0989 - val_accuracy: 0.9675\n",
      "Epoch 191/200\n",
      "31/31 [==============================] - 0s 9ms/step - loss: 0.0250 - accuracy: 1.0000 - val_loss: 0.0969 - val_accuracy: 0.9675\n",
      "Epoch 192/200\n",
      "31/31 [==============================] - 0s 7ms/step - loss: 0.0270 - accuracy: 1.0000 - val_loss: 0.0971 - val_accuracy: 0.9675\n",
      "Epoch 193/200\n",
      "31/31 [==============================] - 0s 8ms/step - loss: 0.0252 - accuracy: 1.0000 - val_loss: 0.0990 - val_accuracy: 0.9675\n",
      "Epoch 194/200\n",
      "31/31 [==============================] - 0s 7ms/step - loss: 0.0230 - accuracy: 1.0000 - val_loss: 0.0974 - val_accuracy: 0.9675\n",
      "Epoch 195/200\n",
      "31/31 [==============================] - 0s 9ms/step - loss: 0.0274 - accuracy: 1.0000 - val_loss: 0.0965 - val_accuracy: 0.9675\n",
      "Epoch 196/200\n",
      "31/31 [==============================] - 0s 8ms/step - loss: 0.0229 - accuracy: 1.0000 - val_loss: 0.0945 - val_accuracy: 0.9675\n",
      "Epoch 197/200\n",
      "31/31 [==============================] - 0s 8ms/step - loss: 0.0273 - accuracy: 1.0000 - val_loss: 0.0975 - val_accuracy: 0.9675\n",
      "Epoch 198/200\n",
      "31/31 [==============================] - 0s 7ms/step - loss: 0.0239 - accuracy: 1.0000 - val_loss: 0.0955 - val_accuracy: 0.9675\n",
      "Epoch 199/200\n",
      "31/31 [==============================] - 0s 8ms/step - loss: 0.0226 - accuracy: 1.0000 - val_loss: 0.0965 - val_accuracy: 0.9675\n",
      "Epoch 200/200\n",
      "31/31 [==============================] - 0s 7ms/step - loss: 0.0240 - accuracy: 0.9984 - val_loss: 0.0957 - val_accuracy: 0.9675\n"
     ]
    }
   ],
   "source": [
    "epochs = 200\n",
    "history = model.fit(\n",
    "    train_ds,\n",
    "    validation_data=val_ds,\n",
    "    epochs=epochs)"
   ]
  },
  {
   "cell_type": "markdown",
   "metadata": {
    "id": "9EEGuDVuzb5r"
   },
   "source": [
    "### Evaluate the model"
   ]
  },
  {
   "cell_type": "code",
   "execution_count": 131,
   "metadata": {
    "id": "zOMKywn4zReN",
    "tags": []
   },
   "outputs": [
    {
     "name": "stdout",
     "output_type": "stream",
     "text": [
      "40/40 [==============================] - 0s 2ms/step - loss: 0.1630 - accuracy: 0.9547\n",
      "Loss:  0.16304920613765717\n",
      "Accuracy:  0.9546599388122559\n"
     ]
    }
   ],
   "source": [
    "loss, accuracy = model.evaluate(test_ds)\n",
    "\n",
    "print(\"Loss: \", loss)\n",
    "print(\"Accuracy: \", accuracy)"
   ]
  },
  {
   "cell_type": "markdown",
   "metadata": {
    "id": "ldbQqCw2Xc1W"
   },
   "source": [
    "### Create a plot of accuracy and loss over time"
   ]
  },
  {
   "cell_type": "code",
   "execution_count": 132,
   "metadata": {
    "id": "-YcvZsdvWfDf",
    "tags": []
   },
   "outputs": [
    {
     "data": {
      "text/plain": [
       "dict_keys(['loss', 'accuracy', 'val_loss', 'val_accuracy'])"
      ]
     },
     "execution_count": 132,
     "metadata": {},
     "output_type": "execute_result"
    }
   ],
   "source": [
    "history_dict = history.history\n",
    "history_dict.keys()"
   ]
  },
  {
   "cell_type": "code",
   "execution_count": 133,
   "metadata": {
    "id": "2SEMeQ5YXs8z",
    "tags": []
   },
   "outputs": [
    {
     "data": {
      "image/png": "[encoded data removed]",
      "text/plain": [
       "<Figure size 432x288 with 1 Axes>"
      ]
     },
     "metadata": {
      "needs_background": "light"
     },
     "output_type": "display_data"
    }
   ],
   "source": [
    "acc = history_dict['accuracy']\n",
    "val_acc = history_dict['val_accuracy']\n",
    "loss = history_dict['loss']\n",
    "val_loss = history_dict['val_loss']\n",
    "\n",
    "epochs = range(1, len(acc) + 1)\n",
    "\n",
    "# \"bo\" is for \"blue dot\"\n",
    "plt.plot(epochs, loss, 'bo', label='Training loss')\n",
    "# b is for \"solid blue line\"\n",
    "plt.plot(epochs, val_loss, 'b', label='Validation loss')\n",
    "plt.title('Training and validation loss')\n",
    "plt.xlabel('Epochs')\n",
    "plt.ylabel('Loss')\n",
    "plt.legend()\n",
    "\n",
    "plt.show()"
   ]
  },
  {
   "cell_type": "code",
   "execution_count": 134,
   "metadata": {
    "id": "Z3PJemLPXwz_",
    "tags": []
   },
   "outputs": [
    {
     "data": {
      "image/png": "[encoded data removed]",
      "text/plain": [
       "<Figure size 432x288 with 1 Axes>"
      ]
     },
     "metadata": {
      "needs_background": "light"
     },
     "output_type": "display_data"
    }
   ],
   "source": [
    "plt.plot(epochs, acc, 'bo', label='Training acc')\n",
    "plt.plot(epochs, val_acc, 'b', label='Validation acc')\n",
    "plt.title('Training and validation accuracy')\n",
    "plt.xlabel('Epochs')\n",
    "plt.ylabel('Accuracy')\n",
    "plt.legend(loc='lower right')\n",
    "\n",
    "plt.show()"
   ]
  },
  {
   "cell_type": "markdown",
   "metadata": {
    "id": "-to23J3Vy5d3"
   },
   "source": [
    "## Export the model"
   ]
  },
  {
   "cell_type": "code",
   "execution_count": 144,
   "metadata": {
    "id": "FWXsMvryuZuq",
    "tags": []
   },
   "outputs": [
    {
     "name": "stdout",
     "output_type": "stream",
     "text": [
      "40/40 [==============================] - 1s 6ms/step - loss: 0.1630 - accuracy: 0.9547\n",
      "0.9546599388122559\n"
     ]
    }
   ],
   "source": [
    "export_model = tf.keras.Sequential([\n",
    "  vectorize_layer,\n",
    "  model,\n",
    "  layers.Activation('softmax')\n",
    "])\n",
    "\n",
    "# export_model.compile(\n",
    "#     loss=losses.BinaryCrossentropy(from_logits=False), optimizer=\"adam\", metrics=['accuracy']\n",
    "# )\n",
    "\n",
    "export_model.compile(\n",
    "    loss=tf.keras.losses.SparseCategoricalCrossentropy(from_logits=True), optimizer=\"adam\", metrics=['accuracy']\n",
    ")\n",
    "\n",
    "# Test it with `raw_test_ds`, which yields raw strings\n",
    "loss, accuracy = export_model.evaluate(raw_test_ds)\n",
    "print(accuracy)"
   ]
  },
  {
   "cell_type": "markdown",
   "metadata": {
    "id": "TwQgoN88LoEF",
    "tags": []
   },
   "source": [
    "### Inference on new data\n",
    "\n",
    "`model.predict()` for new tests"
   ]
  },
  {
   "cell_type": "code",
   "execution_count": 145,
   "metadata": {
    "id": "QW355HH5L49K",
    "tags": []
   },
   "outputs": [
    {
     "name": "stdout",
     "output_type": "stream",
     "text": [
      "1/1 [==============================] - 0s 146ms/step\n"
     ]
    },
    {
     "data": {
      "text/plain": [
       "array([[0.8892182 , 0.00249039, 0.0072185 , 0.10107291],\n",
       "       [0.34664702, 0.03779812, 0.00689927, 0.6086556 ],\n",
       "       [0.7805931 , 0.01225202, 0.01027517, 0.1968797 ],\n",
       "       [0.01561437, 0.01144718, 0.9602253 , 0.01271319],\n",
       "       [0.00470146, 0.2778489 , 0.71352875, 0.00392085],\n",
       "       [0.3784207 , 0.00775041, 0.42712313, 0.1867057 ]], dtype=float32)"
      ]
     },
     "execution_count": 145,
     "metadata": {},
     "output_type": "execute_result"
    }
   ],
   "source": [
    "examples = [\n",
    "    \"What should I do to make my skincare routine better?\",\n",
    "    \"What is the best way to deal with eczema\",\n",
    "    \"How should I deal with saggy skin?\",\n",
    "    \"What are the effects of blue light on my eyes?\",\n",
    "    \"How does a lack of sleep affect my eyes?\",\n",
    "    \"How can I deal with cysts on my eyes?\"\n",
    "]\n",
    "\n",
    "export_model.predict(examples)"
   ]
  },
  {
   "cell_type": "code",
   "execution_count": 128,
   "metadata": {},
   "outputs": [
    {
     "name": "stdout",
     "output_type": "stream",
     "text": [
      "1/1 [==============================] - 0s 64ms/step\n"
     ]
    },
    {
     "data": {
      "text/plain": [
       "array([[0.1673603],\n",
       "       [0.7145463]], dtype=float32)"
      ]
     },
     "execution_count": 128,
     "metadata": {},
     "output_type": "execute_result"
    }
   ],
   "source": [
    "examples = [\n",
    "    \"Why is my skin itchy and red?\",\n",
    "    \"Why are my eyes watering?\" \n",
    "]\n",
    "export_model.predict(examples)"
   ]
  },
  {
   "cell_type": "code",
   "execution_count": 147,
   "metadata": {},
   "outputs": [
    {
     "name": "stdout",
     "output_type": "stream",
     "text": [
      "1/1 [==============================] - 0s 48ms/step\n"
     ]
    },
    {
     "data": {
      "text/plain": [
       "array([[0.73278046, 0.03053089, 0.04022553, 0.19646315],\n",
       "       [0.06097248, 0.06473837, 0.7813237 , 0.09296557]], dtype=float32)"
      ]
     },
     "execution_count": 147,
     "metadata": {},
     "output_type": "execute_result"
    }
   ],
   "source": [
    "examples = [\n",
    "    \"Why is my skin itchy and red?\",\n",
    "    \"Why are my eyes watering?\" \n",
    "]\n",
    "export_model.predict(examples)"
   ]
  },
  {
   "cell_type": "code",
   "execution_count": 152,
   "metadata": {},
   "outputs": [
    {
     "name": "stdout",
     "output_type": "stream",
     "text": [
      "1/1 [==============================] - 0s 45ms/step\n"
     ]
    },
    {
     "data": {
      "text/plain": [
       "array([[7.3278046e-01, 3.0530887e-02, 4.0225532e-02, 1.9646315e-01],\n",
       "       [2.5990051e-03, 9.7166598e-01, 1.1738650e-02, 1.3996400e-02],\n",
       "       [2.1568153e-03, 7.6684816e-04, 9.9640048e-01, 6.7588332e-04],\n",
       "       [2.4243279e-03, 1.5803892e-03, 1.3231016e-04, 9.9586296e-01]],\n",
       "      dtype=float32)"
      ]
     },
     "execution_count": 152,
     "metadata": {},
     "output_type": "execute_result"
    }
   ],
   "source": [
    "# Label 0 corresponds to dermatology\n",
    "# Label 1 corresponds to neurology\n",
    "# Label 2 corresponds to optometry\n",
    "# Label 3 corresponds to podiatry\n",
    "\n",
    "examples = [\n",
    "    \"Why is my skin itchy and red?\",\n",
    "    \"How are movement disorders like dystonia different from tremors?\",\n",
    "    \"How can I protect my eyes from chlorine in swimming pools??\",\n",
    "    \"What can I do to improve foot mobility?\"\n",
    "]\n",
    "export_model.predict(examples)"
   ]
  },
  {
   "cell_type": "code",
   "execution_count": null,
   "metadata": {},
   "outputs": [],
   "source": []
  }
 ],
 "metadata": {
  "accelerator": "GPU",
  "colab": {
   "collapsed_sections": [],
   "name": "text_classification.ipynb",
   "toc_visible": true
  },
  "kernelspec": {
   "display_name": "Python 3 (ipykernel)",
   "language": "python",
   "name": "python3"
  },
  "language_info": {
   "codemirror_mode": {
    "name": "ipython",
    "version": 3
   },
   "file_extension": ".py",
   "mimetype": "text/x-python",
   "name": "python",
   "nbconvert_exporter": "python",
   "pygments_lexer": "ipython3",
   "version": "3.9.12"
  }
 },
 "nbformat": 4,
 "nbformat_minor": 4
}
